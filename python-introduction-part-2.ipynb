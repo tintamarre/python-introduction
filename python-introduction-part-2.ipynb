{
 "cells": [
  {
   "cell_type": "markdown",
   "metadata": {},
   "source": [
    "# Section 2: Chargement et manipulation de données"
   ]
  },
  {
   "cell_type": "code",
   "execution_count": null,
   "metadata": {},
   "outputs": [],
   "source": [
    "import pandas as pd #big_kangourou\n",
    "\n",
    "# df = pd.read_csv('./datasets/persons.csv')\n",
    "df = pd.read_csv('https://raw.githubusercontent.com/tintamarre/python-introduction/main/datasets/persons.csv')\n",
    "df.head()"
   ]
  },
  {
   "cell_type": "code",
   "execution_count": null,
   "metadata": {},
   "outputs": [],
   "source": [
    "df = pd.read_excel('https://raw.githubusercontent.com/tintamarre/python-introduction/main/datasets/persons.xlsx')\n",
    "# df = pd.read_parquet('./datasets/persons.parquet')\n",
    "df"
   ]
  },
  {
   "cell_type": "code",
   "execution_count": null,
   "metadata": {},
   "outputs": [],
   "source": [
    "print(df.shape)"
   ]
  },
  {
   "cell_type": "code",
   "execution_count": null,
   "metadata": {},
   "outputs": [],
   "source": [
    "df.columns"
   ]
  },
  {
   "cell_type": "code",
   "execution_count": null,
   "metadata": {},
   "outputs": [],
   "source": [
    "df.describe()"
   ]
  },
  {
   "cell_type": "code",
   "execution_count": null,
   "metadata": {},
   "outputs": [],
   "source": [
    "df.info()"
   ]
  },
  {
   "cell_type": "code",
   "execution_count": null,
   "metadata": {},
   "outputs": [],
   "source": [
    "df.dtypes"
   ]
  },
  {
   "cell_type": "code",
   "execution_count": null,
   "metadata": {},
   "outputs": [],
   "source": [
    "# define the columns to be read as string\n",
    "df = pd.read_csv('https://raw.githubusercontent.com/tintamarre/python-introduction/main/datasets/persons.csv', dtype={'id': str, 'name': str, 'age': str, 'city': str})"
   ]
  },
  {
   "cell_type": "markdown",
   "metadata": {},
   "source": [
    "## Modification de données"
   ]
  },
  {
   "cell_type": "code",
   "execution_count": null,
   "metadata": {},
   "outputs": [],
   "source": [
    "# extract birthdate from the 8 first characters of the column national_number\n",
    "df['birthdate'] = df['national_number'].str[:8]\n",
    "df.head()"
   ]
  },
  {
   "cell_type": "code",
   "execution_count": null,
   "metadata": {},
   "outputs": [],
   "source": [
    "# convert the birthdate to datetime \n",
    "df['birthdate'] = pd.to_datetime(df['birthdate'], format='%y.%m.%d')\n",
    "df.sample(5)"
   ]
  },
  {
   "cell_type": "code",
   "execution_count": null,
   "metadata": {},
   "outputs": [],
   "source": [
    "# if bithdate is in the future, remove 100 years\n",
    "df.loc[df['birthdate'] > pd.to_datetime('today'), 'birthdate'] -= pd.DateOffset(years=100)\n",
    "df.sample(5)"
   ]
  },
  {
   "cell_type": "code",
   "execution_count": null,
   "metadata": {},
   "outputs": [],
   "source": [
    "df.dtypes"
   ]
  },
  {
   "cell_type": "code",
   "execution_count": null,
   "metadata": {},
   "outputs": [],
   "source": [
    "# find the age of each person\n",
    "df['age'] = (pd.to_datetime('today') - df['birthdate']).astype('<m8[Y]') # <m8[Y] is the code for years in datetime64\n",
    "df.head()"
   ]
  },
  {
   "cell_type": "code",
   "execution_count": null,
   "metadata": {},
   "outputs": [],
   "source": [
    "df.dtypes"
   ]
  },
  {
   "cell_type": "code",
   "execution_count": null,
   "metadata": {},
   "outputs": [],
   "source": [
    "df['age'] = df['age'].astype(int)\n",
    "df.head()"
   ]
  },
  {
   "cell_type": "code",
   "execution_count": null,
   "metadata": {},
   "outputs": [],
   "source": [
    "df.dtypes"
   ]
  },
  {
   "cell_type": "code",
   "execution_count": null,
   "metadata": {},
   "outputs": [],
   "source": [
    "# find gender from the national number : if 4th from the end is even, then it is a female else it should be a male\n",
    "df['gender_digit'] = df['national_number'].str[-4].astype(int)\n",
    "df.head()"
   ]
  },
  {
   "cell_type": "code",
   "execution_count": null,
   "metadata": {},
   "outputs": [],
   "source": [
    "def get_gender(fourth_digit_from_end):\n",
    "    return 'Female' if fourth_digit_from_end % 2 == 0 else 'Male'\n",
    "\n",
    "# if digit is even then it a female else it should be a male\n",
    "df['gender'] = df['gender_digit'].apply(get_gender)\n",
    "df.head() "
   ]
  },
  {
   "cell_type": "code",
   "execution_count": null,
   "metadata": {},
   "outputs": [],
   "source": [
    "# add a age category column\n",
    "df['age_category'] = pd.cut(\n",
    "                    df['age'], \n",
    "                    bins=[0, 38, 42, 46, 113], \n",
    "                    labels=['0-38 Jeune', '39-42 Adulte', '43-46 À point', '47-113 Senior']\n",
    "                    )\n",
    "\n",
    "df.head()"
   ]
  },
  {
   "cell_type": "code",
   "execution_count": null,
   "metadata": {},
   "outputs": [],
   "source": [
    "# get company from domain name\n",
    "df['company'] = df['email'].str.split('@').str[1].str.split('.').str[0]\n",
    "df['company'] = df['company'].str.capitalize()\n",
    "df['company'] = df['company'].str.replace('-', ' ')\n",
    "\n",
    "df.head()"
   ]
  },
  {
   "cell_type": "code",
   "execution_count": null,
   "metadata": {},
   "outputs": [],
   "source": [
    "# remove phone\n",
    "df = df.drop(columns=['phone', 'gender_digit', 'email'])"
   ]
  },
  {
   "cell_type": "code",
   "execution_count": null,
   "metadata": {},
   "outputs": [],
   "source": [
    "# create a full name column\n",
    "df['full_name'] = df['first_name'] + ' ' + df['last_name']\n",
    "df.drop(columns=['first_name', 'last_name'], inplace=True)\n",
    "df.sample(5)"
   ]
  },
  {
   "cell_type": "code",
   "execution_count": null,
   "metadata": {},
   "outputs": [],
   "source": [
    "df.to_csv('./datasets/persons_cleaned.csv', index=False)"
   ]
  },
  {
   "cell_type": "markdown",
   "metadata": {},
   "source": [
    "# Visualisation des données"
   ]
  },
  {
   "cell_type": "code",
   "execution_count": null,
   "metadata": {},
   "outputs": [],
   "source": [
    "# plot the age distribution\n",
    "df['age'].plot(kind='hist', bins=20)"
   ]
  },
  {
   "cell_type": "code",
   "execution_count": null,
   "metadata": {},
   "outputs": [],
   "source": [
    "# plot the age category distribution ordered by age\n",
    "df['age_category'].value_counts().sort_index().plot(kind='bar', color='green')"
   ]
  },
  {
   "cell_type": "code",
   "execution_count": null,
   "metadata": {},
   "outputs": [],
   "source": [
    "!pip install plotly"
   ]
  },
  {
   "cell_type": "code",
   "execution_count": null,
   "metadata": {},
   "outputs": [],
   "source": [
    "import plotly.express as px\n",
    "\n",
    "#  plot the age category distribution ordered by age with plotly\n",
    "fig = px.histogram(df,\n",
    "                    x='age_category',\n",
    "                    color=\"gender\",\n",
    "                    title='Age category distribution',\n",
    "                    labels={'age_category': 'Age category','count': 'Number of persons'},\n",
    "                    barmode='group',\n",
    "                    category_orders={'age_category': df['age_category'].value_counts().sort_index().index}\n",
    "                    )\n",
    "fig.show()"
   ]
  }
 ],
 "metadata": {
  "kernelspec": {
   "display_name": "Python 3",
   "language": "python",
   "name": "python3"
  },
  "language_info": {
   "codemirror_mode": {
    "name": "ipython",
    "version": 3
   },
   "file_extension": ".py",
   "mimetype": "text/x-python",
   "name": "python",
   "nbconvert_exporter": "python",
   "pygments_lexer": "ipython3",
   "version": "3.11.5"
  }
 },
 "nbformat": 4,
 "nbformat_minor": 2
}
