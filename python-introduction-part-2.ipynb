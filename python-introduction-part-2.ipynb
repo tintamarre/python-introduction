{
 "cells": [
  {
   "cell_type": "markdown",
   "metadata": {},
   "source": [
    "\n",
    "## Création de DataFrame :\n",
    "Créez un DataFrame à partir d'un dictionnaire contenant des données sur des étudiants (noms, âges, notes).\n",
    "Affichez les cinq premières lignes du DataFrame.\n",
    "\n",
    "## Sélection de données :\n",
    "Sélectionnez uniquement la colonne des noms du DataFrame.\n",
    "Sélectionnez les étudiants qui ont obtenu une note supérieure à 75.\n",
    "\n",
    "## Modification de données :\n",
    "Augmentez les notes de tous les étudiants de 5 points.\n",
    "Ajoutez une nouvelle colonne indiquant si un étudiant a réussi (note supérieure à 50) ou échoué.\n",
    "\n",
    "## Filtrage de données :\n",
    "Filtrez les étudiants qui ont échoué.\n",
    "Filtrez les étudiants dont l'âge est supérieur à 20 ans.\n",
    "\n",
    "## Tri de données :\n",
    "Triez le DataFrame par ordre décroissant de notes.\n",
    "Triez le DataFrame par ordre alphabétique des noms.\n",
    "\n",
    "## Agrégation de données :\n",
    "Calculez la moyenne des notes des étudiants.\n",
    "Trouvez l'étudiant avec la note la plus élevée.\n",
    "\n",
    "## Combinaison de DataFrames :\n",
    "Créez deux DataFrames distincts, l'un pour les cours de mathématiques et l'autre pour les cours de sciences, puis combinez-les.\n",
    "Ajoutez une colonne au DataFrame combiné pour indiquer le domaine de chaque cours.\n",
    "\n",
    "## Gestion des valeurs manquantes :\n",
    "Ajoutez des valeurs manquantes à certaines cellules du DataFrame.\n",
    "Supprimez les lignes contenant des valeurs manquantes.\n",
    "\n",
    "## Visualisation :\n",
    "Tracez un histogramme des notes des étudiants.\n",
    "Tracez un diagramme à barres montrant le nombre d'étudiants dans chaque tranche d'âge.\n",
    "\n"
   ]
  }
 ],
 "metadata": {
  "language_info": {
   "name": "python"
  }
 },
 "nbformat": 4,
 "nbformat_minor": 2
}
