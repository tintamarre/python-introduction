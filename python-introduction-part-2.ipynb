{
 "cells": [
  {
   "cell_type": "markdown",
   "metadata": {},
   "source": [
    "# Chargement d'une dataframe"
   ]
  },
  {
   "cell_type": "code",
   "execution_count": 2,
   "metadata": {},
   "outputs": [
    {
     "data": {
      "text/html": [
       "<div>\n",
       "<style scoped>\n",
       "    .dataframe tbody tr th:only-of-type {\n",
       "        vertical-align: middle;\n",
       "    }\n",
       "\n",
       "    .dataframe tbody tr th {\n",
       "        vertical-align: top;\n",
       "    }\n",
       "\n",
       "    .dataframe thead th {\n",
       "        text-align: right;\n",
       "    }\n",
       "</style>\n",
       "<table border=\"1\" class=\"dataframe\">\n",
       "  <thead>\n",
       "    <tr style=\"text-align: right;\">\n",
       "      <th></th>\n",
       "      <th>first_name</th>\n",
       "      <th>last_name</th>\n",
       "      <th>email</th>\n",
       "      <th>phone</th>\n",
       "      <th>national_number</th>\n",
       "    </tr>\n",
       "  </thead>\n",
       "  <tbody>\n",
       "    <tr>\n",
       "      <th>0</th>\n",
       "      <td>Édouard</td>\n",
       "      <td>Hoarau</td>\n",
       "      <td>obrun@huet-s-a-s.com</td>\n",
       "      <td>+32 (0)4 43 93 75 89</td>\n",
       "      <td>57.04.25-655.94</td>\n",
       "    </tr>\n",
       "    <tr>\n",
       "      <th>1</th>\n",
       "      <td>Nath</td>\n",
       "      <td>Raymond</td>\n",
       "      <td>zpichon@gimenez.net</td>\n",
       "      <td>0427798177</td>\n",
       "      <td>66.07.21-762.08</td>\n",
       "    </tr>\n",
       "    <tr>\n",
       "      <th>2</th>\n",
       "      <td>Élise</td>\n",
       "      <td>Reynaud</td>\n",
       "      <td>christiane56@thibault-boyer-s-a-s.com</td>\n",
       "      <td>05 64 21 64 81</td>\n",
       "      <td>80.07.22-299.56</td>\n",
       "    </tr>\n",
       "    <tr>\n",
       "      <th>3</th>\n",
       "      <td>Laure</td>\n",
       "      <td>Gérard</td>\n",
       "      <td>reneetoussaint@weiss.net</td>\n",
       "      <td>04 11 64 97 53</td>\n",
       "      <td>89.04.01-944.45</td>\n",
       "    </tr>\n",
       "    <tr>\n",
       "      <th>4</th>\n",
       "      <td>Célina</td>\n",
       "      <td>Ledoux</td>\n",
       "      <td>bergerchristophe@blanc.com</td>\n",
       "      <td>02 72 54 34 00</td>\n",
       "      <td>58.05.11-442.46</td>\n",
       "    </tr>\n",
       "  </tbody>\n",
       "</table>\n",
       "</div>"
      ],
      "text/plain": [
       "  first_name last_name                                  email  \\\n",
       "0    Édouard    Hoarau                   obrun@huet-s-a-s.com   \n",
       "1       Nath   Raymond                    zpichon@gimenez.net   \n",
       "2      Élise   Reynaud  christiane56@thibault-boyer-s-a-s.com   \n",
       "3      Laure    Gérard               reneetoussaint@weiss.net   \n",
       "4     Célina    Ledoux             bergerchristophe@blanc.com   \n",
       "\n",
       "                  phone  national_number  \n",
       "0  +32 (0)4 43 93 75 89  57.04.25-655.94  \n",
       "1            0427798177  66.07.21-762.08  \n",
       "2        05 64 21 64 81  80.07.22-299.56  \n",
       "3        04 11 64 97 53  89.04.01-944.45  \n",
       "4        02 72 54 34 00  58.05.11-442.46  "
      ]
     },
     "execution_count": 2,
     "metadata": {},
     "output_type": "execute_result"
    }
   ],
   "source": [
    "import pandas as pd #big_kangourou\n",
    "\n",
    "df = pd.read_csv('./datasets/persons.csv')\n",
    "df.head()"
   ]
  },
  {
   "cell_type": "code",
   "execution_count": 3,
   "metadata": {},
   "outputs": [
    {
     "data": {
      "text/html": [
       "<div>\n",
       "<style scoped>\n",
       "    .dataframe tbody tr th:only-of-type {\n",
       "        vertical-align: middle;\n",
       "    }\n",
       "\n",
       "    .dataframe tbody tr th {\n",
       "        vertical-align: top;\n",
       "    }\n",
       "\n",
       "    .dataframe thead th {\n",
       "        text-align: right;\n",
       "    }\n",
       "</style>\n",
       "<table border=\"1\" class=\"dataframe\">\n",
       "  <thead>\n",
       "    <tr style=\"text-align: right;\">\n",
       "      <th></th>\n",
       "      <th>first_name</th>\n",
       "      <th>last_name</th>\n",
       "      <th>email</th>\n",
       "      <th>phone</th>\n",
       "      <th>national_number</th>\n",
       "    </tr>\n",
       "  </thead>\n",
       "  <tbody>\n",
       "    <tr>\n",
       "      <th>0</th>\n",
       "      <td>Édouard</td>\n",
       "      <td>Hoarau</td>\n",
       "      <td>obrun@huet-s-a-s.com</td>\n",
       "      <td>+32 (0)4 43 93 75 89</td>\n",
       "      <td>57.04.25-655.94</td>\n",
       "    </tr>\n",
       "    <tr>\n",
       "      <th>1</th>\n",
       "      <td>Nath</td>\n",
       "      <td>Raymond</td>\n",
       "      <td>zpichon@gimenez.net</td>\n",
       "      <td>0427798177</td>\n",
       "      <td>66.07.21-762.08</td>\n",
       "    </tr>\n",
       "    <tr>\n",
       "      <th>2</th>\n",
       "      <td>Élise</td>\n",
       "      <td>Reynaud</td>\n",
       "      <td>christiane56@thibault-boyer-s-a-s.com</td>\n",
       "      <td>05 64 21 64 81</td>\n",
       "      <td>80.07.22-299.56</td>\n",
       "    </tr>\n",
       "    <tr>\n",
       "      <th>3</th>\n",
       "      <td>Laure</td>\n",
       "      <td>Gérard</td>\n",
       "      <td>reneetoussaint@weiss.net</td>\n",
       "      <td>04 11 64 97 53</td>\n",
       "      <td>89.04.01-944.45</td>\n",
       "    </tr>\n",
       "    <tr>\n",
       "      <th>4</th>\n",
       "      <td>Célina</td>\n",
       "      <td>Ledoux</td>\n",
       "      <td>bergerchristophe@blanc.com</td>\n",
       "      <td>02 72 54 34 00</td>\n",
       "      <td>58.05.11-442.46</td>\n",
       "    </tr>\n",
       "    <tr>\n",
       "      <th>...</th>\n",
       "      <td>...</td>\n",
       "      <td>...</td>\n",
       "      <td>...</td>\n",
       "      <td>...</td>\n",
       "      <td>...</td>\n",
       "    </tr>\n",
       "    <tr>\n",
       "      <th>995</th>\n",
       "      <td>Arthur</td>\n",
       "      <td>Clerc</td>\n",
       "      <td>paulfaivre@boutin-sa.org</td>\n",
       "      <td>0532196567</td>\n",
       "      <td>61.08.18-911.28</td>\n",
       "    </tr>\n",
       "    <tr>\n",
       "      <th>996</th>\n",
       "      <td>Aimée</td>\n",
       "      <td>Collin</td>\n",
       "      <td>moniquelegendre@dias-peron-sa.org</td>\n",
       "      <td>0430505362</td>\n",
       "      <td>47.05.05-995.41</td>\n",
       "    </tr>\n",
       "    <tr>\n",
       "      <th>997</th>\n",
       "      <td>Olivie</td>\n",
       "      <td>Bazin</td>\n",
       "      <td>michelle91@dijoux-s-a-r-l.net</td>\n",
       "      <td>+32 4 85 13 20 23</td>\n",
       "      <td>89.02.08-520.65</td>\n",
       "    </tr>\n",
       "    <tr>\n",
       "      <th>998</th>\n",
       "      <td>Patricia</td>\n",
       "      <td>Lucas</td>\n",
       "      <td>gilletarnaude@marechal.net</td>\n",
       "      <td>+32 3 10 35 45 70</td>\n",
       "      <td>82.10.28-722.89</td>\n",
       "    </tr>\n",
       "    <tr>\n",
       "      <th>999</th>\n",
       "      <td>Paul</td>\n",
       "      <td>Gimenez</td>\n",
       "      <td>gillesaurore@fernandez.org</td>\n",
       "      <td>04 38 93 01 47</td>\n",
       "      <td>96.03.28-776.48</td>\n",
       "    </tr>\n",
       "  </tbody>\n",
       "</table>\n",
       "<p>1000 rows × 5 columns</p>\n",
       "</div>"
      ],
      "text/plain": [
       "    first_name last_name                                  email  \\\n",
       "0      Édouard    Hoarau                   obrun@huet-s-a-s.com   \n",
       "1         Nath   Raymond                    zpichon@gimenez.net   \n",
       "2        Élise   Reynaud  christiane56@thibault-boyer-s-a-s.com   \n",
       "3        Laure    Gérard               reneetoussaint@weiss.net   \n",
       "4       Célina    Ledoux             bergerchristophe@blanc.com   \n",
       "..         ...       ...                                    ...   \n",
       "995     Arthur     Clerc               paulfaivre@boutin-sa.org   \n",
       "996      Aimée    Collin      moniquelegendre@dias-peron-sa.org   \n",
       "997     Olivie     Bazin          michelle91@dijoux-s-a-r-l.net   \n",
       "998   Patricia     Lucas             gilletarnaude@marechal.net   \n",
       "999       Paul   Gimenez             gillesaurore@fernandez.org   \n",
       "\n",
       "                    phone  national_number  \n",
       "0    +32 (0)4 43 93 75 89  57.04.25-655.94  \n",
       "1              0427798177  66.07.21-762.08  \n",
       "2          05 64 21 64 81  80.07.22-299.56  \n",
       "3          04 11 64 97 53  89.04.01-944.45  \n",
       "4          02 72 54 34 00  58.05.11-442.46  \n",
       "..                    ...              ...  \n",
       "995            0532196567  61.08.18-911.28  \n",
       "996            0430505362  47.05.05-995.41  \n",
       "997     +32 4 85 13 20 23  89.02.08-520.65  \n",
       "998     +32 3 10 35 45 70  82.10.28-722.89  \n",
       "999        04 38 93 01 47  96.03.28-776.48  \n",
       "\n",
       "[1000 rows x 5 columns]"
      ]
     },
     "execution_count": 3,
     "metadata": {},
     "output_type": "execute_result"
    }
   ],
   "source": [
    "df = pd.read_excel('./datasets/persons.xlsx')\n",
    "df"
   ]
  },
  {
   "cell_type": "code",
   "execution_count": 4,
   "metadata": {},
   "outputs": [
    {
     "name": "stdout",
     "output_type": "stream",
     "text": [
      "(1000, 5)\n"
     ]
    }
   ],
   "source": [
    "print(df.shape)"
   ]
  },
  {
   "cell_type": "code",
   "execution_count": 5,
   "metadata": {},
   "outputs": [
    {
     "data": {
      "text/plain": [
       "Index(['first_name', 'last_name', 'email', 'phone', 'national_number'], dtype='object')"
      ]
     },
     "execution_count": 5,
     "metadata": {},
     "output_type": "execute_result"
    }
   ],
   "source": [
    "df.columns"
   ]
  },
  {
   "cell_type": "code",
   "execution_count": 6,
   "metadata": {},
   "outputs": [
    {
     "data": {
      "text/html": [
       "<div>\n",
       "<style scoped>\n",
       "    .dataframe tbody tr th:only-of-type {\n",
       "        vertical-align: middle;\n",
       "    }\n",
       "\n",
       "    .dataframe tbody tr th {\n",
       "        vertical-align: top;\n",
       "    }\n",
       "\n",
       "    .dataframe thead th {\n",
       "        text-align: right;\n",
       "    }\n",
       "</style>\n",
       "<table border=\"1\" class=\"dataframe\">\n",
       "  <thead>\n",
       "    <tr style=\"text-align: right;\">\n",
       "      <th></th>\n",
       "      <th>first_name</th>\n",
       "      <th>last_name</th>\n",
       "      <th>email</th>\n",
       "      <th>phone</th>\n",
       "      <th>national_number</th>\n",
       "    </tr>\n",
       "  </thead>\n",
       "  <tbody>\n",
       "    <tr>\n",
       "      <th>count</th>\n",
       "      <td>1000</td>\n",
       "      <td>1000</td>\n",
       "      <td>1000</td>\n",
       "      <td>1000</td>\n",
       "      <td>1000</td>\n",
       "    </tr>\n",
       "    <tr>\n",
       "      <th>unique</th>\n",
       "      <td>213</td>\n",
       "      <td>362</td>\n",
       "      <td>1000</td>\n",
       "      <td>1000</td>\n",
       "      <td>1000</td>\n",
       "    </tr>\n",
       "    <tr>\n",
       "      <th>top</th>\n",
       "      <td>Suzanne</td>\n",
       "      <td>Lebon</td>\n",
       "      <td>obrun@huet-s-a-s.com</td>\n",
       "      <td>+32 (0)4 43 93 75 89</td>\n",
       "      <td>57.04.25-655.94</td>\n",
       "    </tr>\n",
       "    <tr>\n",
       "      <th>freq</th>\n",
       "      <td>13</td>\n",
       "      <td>8</td>\n",
       "      <td>1</td>\n",
       "      <td>1</td>\n",
       "      <td>1</td>\n",
       "    </tr>\n",
       "  </tbody>\n",
       "</table>\n",
       "</div>"
      ],
      "text/plain": [
       "       first_name last_name                 email                 phone  \\\n",
       "count        1000      1000                  1000                  1000   \n",
       "unique        213       362                  1000                  1000   \n",
       "top       Suzanne     Lebon  obrun@huet-s-a-s.com  +32 (0)4 43 93 75 89   \n",
       "freq           13         8                     1                     1   \n",
       "\n",
       "        national_number  \n",
       "count              1000  \n",
       "unique             1000  \n",
       "top     57.04.25-655.94  \n",
       "freq                  1  "
      ]
     },
     "execution_count": 6,
     "metadata": {},
     "output_type": "execute_result"
    }
   ],
   "source": [
    "df.describe()"
   ]
  },
  {
   "cell_type": "code",
   "execution_count": 7,
   "metadata": {},
   "outputs": [
    {
     "name": "stdout",
     "output_type": "stream",
     "text": [
      "<class 'pandas.core.frame.DataFrame'>\n",
      "RangeIndex: 1000 entries, 0 to 999\n",
      "Data columns (total 5 columns):\n",
      " #   Column           Non-Null Count  Dtype \n",
      "---  ------           --------------  ----- \n",
      " 0   first_name       1000 non-null   object\n",
      " 1   last_name        1000 non-null   object\n",
      " 2   email            1000 non-null   object\n",
      " 3   phone            1000 non-null   object\n",
      " 4   national_number  1000 non-null   object\n",
      "dtypes: object(5)\n",
      "memory usage: 39.2+ KB\n"
     ]
    }
   ],
   "source": [
    "df.info()"
   ]
  },
  {
   "cell_type": "code",
   "execution_count": 8,
   "metadata": {},
   "outputs": [
    {
     "data": {
      "text/plain": [
       "first_name         object\n",
       "last_name          object\n",
       "email              object\n",
       "phone              object\n",
       "national_number    object\n",
       "dtype: object"
      ]
     },
     "execution_count": 8,
     "metadata": {},
     "output_type": "execute_result"
    }
   ],
   "source": [
    "df.dtypes"
   ]
  },
  {
   "cell_type": "code",
   "execution_count": 9,
   "metadata": {},
   "outputs": [],
   "source": [
    "# define the columns to be read as string\n",
    "df = pd.read_csv('./datasets/persons.csv', dtype={'id': str, 'name': str, 'age': str, 'city': str})"
   ]
  },
  {
   "cell_type": "code",
   "execution_count": 10,
   "metadata": {},
   "outputs": [
    {
     "data": {
      "text/plain": [
       "first_name         object\n",
       "last_name          object\n",
       "email              object\n",
       "phone              object\n",
       "national_number    object\n",
       "dtype: object"
      ]
     },
     "execution_count": 10,
     "metadata": {},
     "output_type": "execute_result"
    }
   ],
   "source": [
    "df.dtypes"
   ]
  },
  {
   "cell_type": "markdown",
   "metadata": {},
   "source": [
    "## Modification de données"
   ]
  },
  {
   "cell_type": "code",
   "execution_count": 11,
   "metadata": {},
   "outputs": [
    {
     "data": {
      "text/html": [
       "<div>\n",
       "<style scoped>\n",
       "    .dataframe tbody tr th:only-of-type {\n",
       "        vertical-align: middle;\n",
       "    }\n",
       "\n",
       "    .dataframe tbody tr th {\n",
       "        vertical-align: top;\n",
       "    }\n",
       "\n",
       "    .dataframe thead th {\n",
       "        text-align: right;\n",
       "    }\n",
       "</style>\n",
       "<table border=\"1\" class=\"dataframe\">\n",
       "  <thead>\n",
       "    <tr style=\"text-align: right;\">\n",
       "      <th></th>\n",
       "      <th>first_name</th>\n",
       "      <th>last_name</th>\n",
       "      <th>email</th>\n",
       "      <th>phone</th>\n",
       "      <th>national_number</th>\n",
       "      <th>birthdate</th>\n",
       "    </tr>\n",
       "  </thead>\n",
       "  <tbody>\n",
       "    <tr>\n",
       "      <th>0</th>\n",
       "      <td>Édouard</td>\n",
       "      <td>Hoarau</td>\n",
       "      <td>obrun@huet-s-a-s.com</td>\n",
       "      <td>+32 (0)4 43 93 75 89</td>\n",
       "      <td>57.04.25-655.94</td>\n",
       "      <td>57.04.25</td>\n",
       "    </tr>\n",
       "    <tr>\n",
       "      <th>1</th>\n",
       "      <td>Nath</td>\n",
       "      <td>Raymond</td>\n",
       "      <td>zpichon@gimenez.net</td>\n",
       "      <td>0427798177</td>\n",
       "      <td>66.07.21-762.08</td>\n",
       "      <td>66.07.21</td>\n",
       "    </tr>\n",
       "    <tr>\n",
       "      <th>2</th>\n",
       "      <td>Élise</td>\n",
       "      <td>Reynaud</td>\n",
       "      <td>christiane56@thibault-boyer-s-a-s.com</td>\n",
       "      <td>05 64 21 64 81</td>\n",
       "      <td>80.07.22-299.56</td>\n",
       "      <td>80.07.22</td>\n",
       "    </tr>\n",
       "    <tr>\n",
       "      <th>3</th>\n",
       "      <td>Laure</td>\n",
       "      <td>Gérard</td>\n",
       "      <td>reneetoussaint@weiss.net</td>\n",
       "      <td>04 11 64 97 53</td>\n",
       "      <td>89.04.01-944.45</td>\n",
       "      <td>89.04.01</td>\n",
       "    </tr>\n",
       "    <tr>\n",
       "      <th>4</th>\n",
       "      <td>Célina</td>\n",
       "      <td>Ledoux</td>\n",
       "      <td>bergerchristophe@blanc.com</td>\n",
       "      <td>02 72 54 34 00</td>\n",
       "      <td>58.05.11-442.46</td>\n",
       "      <td>58.05.11</td>\n",
       "    </tr>\n",
       "  </tbody>\n",
       "</table>\n",
       "</div>"
      ],
      "text/plain": [
       "  first_name last_name                                  email  \\\n",
       "0    Édouard    Hoarau                   obrun@huet-s-a-s.com   \n",
       "1       Nath   Raymond                    zpichon@gimenez.net   \n",
       "2      Élise   Reynaud  christiane56@thibault-boyer-s-a-s.com   \n",
       "3      Laure    Gérard               reneetoussaint@weiss.net   \n",
       "4     Célina    Ledoux             bergerchristophe@blanc.com   \n",
       "\n",
       "                  phone  national_number birthdate  \n",
       "0  +32 (0)4 43 93 75 89  57.04.25-655.94  57.04.25  \n",
       "1            0427798177  66.07.21-762.08  66.07.21  \n",
       "2        05 64 21 64 81  80.07.22-299.56  80.07.22  \n",
       "3        04 11 64 97 53  89.04.01-944.45  89.04.01  \n",
       "4        02 72 54 34 00  58.05.11-442.46  58.05.11  "
      ]
     },
     "execution_count": 11,
     "metadata": {},
     "output_type": "execute_result"
    }
   ],
   "source": [
    "# extract birthdate from the 8 first characters of the column national_number\n",
    "df['birthdate'] = df['national_number'].str[:8]\n",
    "df.head()"
   ]
  },
  {
   "cell_type": "code",
   "execution_count": 12,
   "metadata": {},
   "outputs": [
    {
     "data": {
      "text/html": [
       "<div>\n",
       "<style scoped>\n",
       "    .dataframe tbody tr th:only-of-type {\n",
       "        vertical-align: middle;\n",
       "    }\n",
       "\n",
       "    .dataframe tbody tr th {\n",
       "        vertical-align: top;\n",
       "    }\n",
       "\n",
       "    .dataframe thead th {\n",
       "        text-align: right;\n",
       "    }\n",
       "</style>\n",
       "<table border=\"1\" class=\"dataframe\">\n",
       "  <thead>\n",
       "    <tr style=\"text-align: right;\">\n",
       "      <th></th>\n",
       "      <th>first_name</th>\n",
       "      <th>last_name</th>\n",
       "      <th>email</th>\n",
       "      <th>phone</th>\n",
       "      <th>national_number</th>\n",
       "      <th>birthdate</th>\n",
       "    </tr>\n",
       "  </thead>\n",
       "  <tbody>\n",
       "    <tr>\n",
       "      <th>825</th>\n",
       "      <td>Laetitia</td>\n",
       "      <td>Hardy</td>\n",
       "      <td>sophie70@menard.org</td>\n",
       "      <td>+32 3 61 13 56 79</td>\n",
       "      <td>84.03.24-625.94</td>\n",
       "      <td>1984-03-24</td>\n",
       "    </tr>\n",
       "    <tr>\n",
       "      <th>30</th>\n",
       "      <td>Louise</td>\n",
       "      <td>Carlier</td>\n",
       "      <td>valletoceane@tessier.org</td>\n",
       "      <td>0322823017</td>\n",
       "      <td>47.01.16-400.04</td>\n",
       "      <td>2047-01-16</td>\n",
       "    </tr>\n",
       "    <tr>\n",
       "      <th>322</th>\n",
       "      <td>Philippine</td>\n",
       "      <td>Jacquot</td>\n",
       "      <td>benoit51@vallet.com</td>\n",
       "      <td>0475902971</td>\n",
       "      <td>66.08.04-507.10</td>\n",
       "      <td>2066-08-04</td>\n",
       "    </tr>\n",
       "    <tr>\n",
       "      <th>440</th>\n",
       "      <td>Émilie</td>\n",
       "      <td>Seguin</td>\n",
       "      <td>massonauguste@lombard-s-a-s.com</td>\n",
       "      <td>02 35 95 41 89</td>\n",
       "      <td>71.12.06-635.78</td>\n",
       "      <td>1971-12-06</td>\n",
       "    </tr>\n",
       "    <tr>\n",
       "      <th>291</th>\n",
       "      <td>Franck</td>\n",
       "      <td>Lemonnier</td>\n",
       "      <td>ogrondin@jacquot.com</td>\n",
       "      <td>+32 3 58 28 45 74</td>\n",
       "      <td>98.01.04-192.90</td>\n",
       "      <td>1998-01-04</td>\n",
       "    </tr>\n",
       "  </tbody>\n",
       "</table>\n",
       "</div>"
      ],
      "text/plain": [
       "     first_name  last_name                            email  \\\n",
       "825    Laetitia      Hardy              sophie70@menard.org   \n",
       "30       Louise    Carlier         valletoceane@tessier.org   \n",
       "322  Philippine    Jacquot              benoit51@vallet.com   \n",
       "440      Émilie     Seguin  massonauguste@lombard-s-a-s.com   \n",
       "291      Franck  Lemonnier             ogrondin@jacquot.com   \n",
       "\n",
       "                 phone  national_number  birthdate  \n",
       "825  +32 3 61 13 56 79  84.03.24-625.94 1984-03-24  \n",
       "30          0322823017  47.01.16-400.04 2047-01-16  \n",
       "322         0475902971  66.08.04-507.10 2066-08-04  \n",
       "440     02 35 95 41 89  71.12.06-635.78 1971-12-06  \n",
       "291  +32 3 58 28 45 74  98.01.04-192.90 1998-01-04  "
      ]
     },
     "execution_count": 12,
     "metadata": {},
     "output_type": "execute_result"
    }
   ],
   "source": [
    "# convert the birthdate to datetime \n",
    "df['birthdate'] = pd.to_datetime(df['birthdate'], format='%y.%m.%d')\n",
    "df.sample(5)"
   ]
  },
  {
   "cell_type": "code",
   "execution_count": 13,
   "metadata": {},
   "outputs": [
    {
     "data": {
      "text/html": [
       "<div>\n",
       "<style scoped>\n",
       "    .dataframe tbody tr th:only-of-type {\n",
       "        vertical-align: middle;\n",
       "    }\n",
       "\n",
       "    .dataframe tbody tr th {\n",
       "        vertical-align: top;\n",
       "    }\n",
       "\n",
       "    .dataframe thead th {\n",
       "        text-align: right;\n",
       "    }\n",
       "</style>\n",
       "<table border=\"1\" class=\"dataframe\">\n",
       "  <thead>\n",
       "    <tr style=\"text-align: right;\">\n",
       "      <th></th>\n",
       "      <th>first_name</th>\n",
       "      <th>last_name</th>\n",
       "      <th>email</th>\n",
       "      <th>phone</th>\n",
       "      <th>national_number</th>\n",
       "      <th>birthdate</th>\n",
       "    </tr>\n",
       "  </thead>\n",
       "  <tbody>\n",
       "    <tr>\n",
       "      <th>136</th>\n",
       "      <td>Bernard</td>\n",
       "      <td>Roger</td>\n",
       "      <td>josephparent@hamel.org</td>\n",
       "      <td>05 62 25 96 68</td>\n",
       "      <td>92.12.05-836.63</td>\n",
       "      <td>1992-12-05</td>\n",
       "    </tr>\n",
       "    <tr>\n",
       "      <th>525</th>\n",
       "      <td>Bertrand</td>\n",
       "      <td>Delaunay</td>\n",
       "      <td>veronique26@lambert-boucher-sarl.com</td>\n",
       "      <td>+32 (0)4 72 91 79 66</td>\n",
       "      <td>46.03.13-244.60</td>\n",
       "      <td>1946-03-13</td>\n",
       "    </tr>\n",
       "    <tr>\n",
       "      <th>1</th>\n",
       "      <td>Nath</td>\n",
       "      <td>Raymond</td>\n",
       "      <td>zpichon@gimenez.net</td>\n",
       "      <td>0427798177</td>\n",
       "      <td>66.07.21-762.08</td>\n",
       "      <td>1966-07-21</td>\n",
       "    </tr>\n",
       "    <tr>\n",
       "      <th>280</th>\n",
       "      <td>Zacharie</td>\n",
       "      <td>Breton</td>\n",
       "      <td>xlefebvre@reynaud.net</td>\n",
       "      <td>+32 3 52 12 39 84</td>\n",
       "      <td>92.05.20-812.52</td>\n",
       "      <td>1992-05-20</td>\n",
       "    </tr>\n",
       "    <tr>\n",
       "      <th>602</th>\n",
       "      <td>Yves</td>\n",
       "      <td>Vidal</td>\n",
       "      <td>cbruneau@roy-hernandez-sarl.org</td>\n",
       "      <td>0238043207</td>\n",
       "      <td>95.04.07-206.03</td>\n",
       "      <td>1995-04-07</td>\n",
       "    </tr>\n",
       "  </tbody>\n",
       "</table>\n",
       "</div>"
      ],
      "text/plain": [
       "    first_name last_name                                 email  \\\n",
       "136    Bernard     Roger                josephparent@hamel.org   \n",
       "525   Bertrand  Delaunay  veronique26@lambert-boucher-sarl.com   \n",
       "1         Nath   Raymond                   zpichon@gimenez.net   \n",
       "280   Zacharie    Breton                 xlefebvre@reynaud.net   \n",
       "602       Yves     Vidal       cbruneau@roy-hernandez-sarl.org   \n",
       "\n",
       "                    phone  national_number  birthdate  \n",
       "136        05 62 25 96 68  92.12.05-836.63 1992-12-05  \n",
       "525  +32 (0)4 72 91 79 66  46.03.13-244.60 1946-03-13  \n",
       "1              0427798177  66.07.21-762.08 1966-07-21  \n",
       "280     +32 3 52 12 39 84  92.05.20-812.52 1992-05-20  \n",
       "602            0238043207  95.04.07-206.03 1995-04-07  "
      ]
     },
     "execution_count": 13,
     "metadata": {},
     "output_type": "execute_result"
    }
   ],
   "source": [
    "# if bithdate is in the future, remove 100 years\n",
    "df.loc[df['birthdate'] > pd.to_datetime('today'), 'birthdate'] -= pd.DateOffset(years=100)\n",
    "df.sample(5)"
   ]
  },
  {
   "cell_type": "code",
   "execution_count": 14,
   "metadata": {},
   "outputs": [
    {
     "data": {
      "text/plain": [
       "first_name                 object\n",
       "last_name                  object\n",
       "email                      object\n",
       "phone                      object\n",
       "national_number            object\n",
       "birthdate          datetime64[ns]\n",
       "dtype: object"
      ]
     },
     "execution_count": 14,
     "metadata": {},
     "output_type": "execute_result"
    }
   ],
   "source": [
    "df.dtypes"
   ]
  },
  {
   "cell_type": "code",
   "execution_count": 15,
   "metadata": {},
   "outputs": [
    {
     "data": {
      "text/html": [
       "<div>\n",
       "<style scoped>\n",
       "    .dataframe tbody tr th:only-of-type {\n",
       "        vertical-align: middle;\n",
       "    }\n",
       "\n",
       "    .dataframe tbody tr th {\n",
       "        vertical-align: top;\n",
       "    }\n",
       "\n",
       "    .dataframe thead th {\n",
       "        text-align: right;\n",
       "    }\n",
       "</style>\n",
       "<table border=\"1\" class=\"dataframe\">\n",
       "  <thead>\n",
       "    <tr style=\"text-align: right;\">\n",
       "      <th></th>\n",
       "      <th>first_name</th>\n",
       "      <th>last_name</th>\n",
       "      <th>email</th>\n",
       "      <th>phone</th>\n",
       "      <th>national_number</th>\n",
       "      <th>birthdate</th>\n",
       "      <th>age</th>\n",
       "    </tr>\n",
       "  </thead>\n",
       "  <tbody>\n",
       "    <tr>\n",
       "      <th>0</th>\n",
       "      <td>Édouard</td>\n",
       "      <td>Hoarau</td>\n",
       "      <td>obrun@huet-s-a-s.com</td>\n",
       "      <td>+32 (0)4 43 93 75 89</td>\n",
       "      <td>57.04.25-655.94</td>\n",
       "      <td>1957-04-25</td>\n",
       "      <td>66.0</td>\n",
       "    </tr>\n",
       "    <tr>\n",
       "      <th>1</th>\n",
       "      <td>Nath</td>\n",
       "      <td>Raymond</td>\n",
       "      <td>zpichon@gimenez.net</td>\n",
       "      <td>0427798177</td>\n",
       "      <td>66.07.21-762.08</td>\n",
       "      <td>1966-07-21</td>\n",
       "      <td>57.0</td>\n",
       "    </tr>\n",
       "    <tr>\n",
       "      <th>2</th>\n",
       "      <td>Élise</td>\n",
       "      <td>Reynaud</td>\n",
       "      <td>christiane56@thibault-boyer-s-a-s.com</td>\n",
       "      <td>05 64 21 64 81</td>\n",
       "      <td>80.07.22-299.56</td>\n",
       "      <td>1980-07-22</td>\n",
       "      <td>43.0</td>\n",
       "    </tr>\n",
       "    <tr>\n",
       "      <th>3</th>\n",
       "      <td>Laure</td>\n",
       "      <td>Gérard</td>\n",
       "      <td>reneetoussaint@weiss.net</td>\n",
       "      <td>04 11 64 97 53</td>\n",
       "      <td>89.04.01-944.45</td>\n",
       "      <td>1989-04-01</td>\n",
       "      <td>34.0</td>\n",
       "    </tr>\n",
       "    <tr>\n",
       "      <th>4</th>\n",
       "      <td>Célina</td>\n",
       "      <td>Ledoux</td>\n",
       "      <td>bergerchristophe@blanc.com</td>\n",
       "      <td>02 72 54 34 00</td>\n",
       "      <td>58.05.11-442.46</td>\n",
       "      <td>1958-05-11</td>\n",
       "      <td>65.0</td>\n",
       "    </tr>\n",
       "  </tbody>\n",
       "</table>\n",
       "</div>"
      ],
      "text/plain": [
       "  first_name last_name                                  email  \\\n",
       "0    Édouard    Hoarau                   obrun@huet-s-a-s.com   \n",
       "1       Nath   Raymond                    zpichon@gimenez.net   \n",
       "2      Élise   Reynaud  christiane56@thibault-boyer-s-a-s.com   \n",
       "3      Laure    Gérard               reneetoussaint@weiss.net   \n",
       "4     Célina    Ledoux             bergerchristophe@blanc.com   \n",
       "\n",
       "                  phone  national_number  birthdate   age  \n",
       "0  +32 (0)4 43 93 75 89  57.04.25-655.94 1957-04-25  66.0  \n",
       "1            0427798177  66.07.21-762.08 1966-07-21  57.0  \n",
       "2        05 64 21 64 81  80.07.22-299.56 1980-07-22  43.0  \n",
       "3        04 11 64 97 53  89.04.01-944.45 1989-04-01  34.0  \n",
       "4        02 72 54 34 00  58.05.11-442.46 1958-05-11  65.0  "
      ]
     },
     "execution_count": 15,
     "metadata": {},
     "output_type": "execute_result"
    }
   ],
   "source": [
    "# find the age of each person\n",
    "df['age'] = (pd.to_datetime('today') - df['birthdate']).astype('<m8[Y]')\n",
    "df.head()"
   ]
  },
  {
   "cell_type": "code",
   "execution_count": 16,
   "metadata": {},
   "outputs": [
    {
     "data": {
      "text/plain": [
       "first_name                 object\n",
       "last_name                  object\n",
       "email                      object\n",
       "phone                      object\n",
       "national_number            object\n",
       "birthdate          datetime64[ns]\n",
       "age                       float64\n",
       "dtype: object"
      ]
     },
     "execution_count": 16,
     "metadata": {},
     "output_type": "execute_result"
    }
   ],
   "source": [
    "df.dtypes"
   ]
  },
  {
   "cell_type": "code",
   "execution_count": 17,
   "metadata": {},
   "outputs": [
    {
     "data": {
      "text/html": [
       "<div>\n",
       "<style scoped>\n",
       "    .dataframe tbody tr th:only-of-type {\n",
       "        vertical-align: middle;\n",
       "    }\n",
       "\n",
       "    .dataframe tbody tr th {\n",
       "        vertical-align: top;\n",
       "    }\n",
       "\n",
       "    .dataframe thead th {\n",
       "        text-align: right;\n",
       "    }\n",
       "</style>\n",
       "<table border=\"1\" class=\"dataframe\">\n",
       "  <thead>\n",
       "    <tr style=\"text-align: right;\">\n",
       "      <th></th>\n",
       "      <th>first_name</th>\n",
       "      <th>last_name</th>\n",
       "      <th>email</th>\n",
       "      <th>phone</th>\n",
       "      <th>national_number</th>\n",
       "      <th>birthdate</th>\n",
       "      <th>age</th>\n",
       "    </tr>\n",
       "  </thead>\n",
       "  <tbody>\n",
       "    <tr>\n",
       "      <th>0</th>\n",
       "      <td>Édouard</td>\n",
       "      <td>Hoarau</td>\n",
       "      <td>obrun@huet-s-a-s.com</td>\n",
       "      <td>+32 (0)4 43 93 75 89</td>\n",
       "      <td>57.04.25-655.94</td>\n",
       "      <td>1957-04-25</td>\n",
       "      <td>66</td>\n",
       "    </tr>\n",
       "    <tr>\n",
       "      <th>1</th>\n",
       "      <td>Nath</td>\n",
       "      <td>Raymond</td>\n",
       "      <td>zpichon@gimenez.net</td>\n",
       "      <td>0427798177</td>\n",
       "      <td>66.07.21-762.08</td>\n",
       "      <td>1966-07-21</td>\n",
       "      <td>57</td>\n",
       "    </tr>\n",
       "    <tr>\n",
       "      <th>2</th>\n",
       "      <td>Élise</td>\n",
       "      <td>Reynaud</td>\n",
       "      <td>christiane56@thibault-boyer-s-a-s.com</td>\n",
       "      <td>05 64 21 64 81</td>\n",
       "      <td>80.07.22-299.56</td>\n",
       "      <td>1980-07-22</td>\n",
       "      <td>43</td>\n",
       "    </tr>\n",
       "    <tr>\n",
       "      <th>3</th>\n",
       "      <td>Laure</td>\n",
       "      <td>Gérard</td>\n",
       "      <td>reneetoussaint@weiss.net</td>\n",
       "      <td>04 11 64 97 53</td>\n",
       "      <td>89.04.01-944.45</td>\n",
       "      <td>1989-04-01</td>\n",
       "      <td>34</td>\n",
       "    </tr>\n",
       "    <tr>\n",
       "      <th>4</th>\n",
       "      <td>Célina</td>\n",
       "      <td>Ledoux</td>\n",
       "      <td>bergerchristophe@blanc.com</td>\n",
       "      <td>02 72 54 34 00</td>\n",
       "      <td>58.05.11-442.46</td>\n",
       "      <td>1958-05-11</td>\n",
       "      <td>65</td>\n",
       "    </tr>\n",
       "  </tbody>\n",
       "</table>\n",
       "</div>"
      ],
      "text/plain": [
       "  first_name last_name                                  email  \\\n",
       "0    Édouard    Hoarau                   obrun@huet-s-a-s.com   \n",
       "1       Nath   Raymond                    zpichon@gimenez.net   \n",
       "2      Élise   Reynaud  christiane56@thibault-boyer-s-a-s.com   \n",
       "3      Laure    Gérard               reneetoussaint@weiss.net   \n",
       "4     Célina    Ledoux             bergerchristophe@blanc.com   \n",
       "\n",
       "                  phone  national_number  birthdate  age  \n",
       "0  +32 (0)4 43 93 75 89  57.04.25-655.94 1957-04-25   66  \n",
       "1            0427798177  66.07.21-762.08 1966-07-21   57  \n",
       "2        05 64 21 64 81  80.07.22-299.56 1980-07-22   43  \n",
       "3        04 11 64 97 53  89.04.01-944.45 1989-04-01   34  \n",
       "4        02 72 54 34 00  58.05.11-442.46 1958-05-11   65  "
      ]
     },
     "execution_count": 17,
     "metadata": {},
     "output_type": "execute_result"
    }
   ],
   "source": [
    "df['age'] = df['age'].astype(int)\n",
    "df.head()"
   ]
  },
  {
   "cell_type": "code",
   "execution_count": 18,
   "metadata": {},
   "outputs": [
    {
     "data": {
      "text/plain": [
       "first_name                 object\n",
       "last_name                  object\n",
       "email                      object\n",
       "phone                      object\n",
       "national_number            object\n",
       "birthdate          datetime64[ns]\n",
       "age                         int64\n",
       "dtype: object"
      ]
     },
     "execution_count": 18,
     "metadata": {},
     "output_type": "execute_result"
    }
   ],
   "source": [
    "df.dtypes"
   ]
  },
  {
   "cell_type": "code",
   "execution_count": 19,
   "metadata": {},
   "outputs": [
    {
     "data": {
      "text/html": [
       "<div>\n",
       "<style scoped>\n",
       "    .dataframe tbody tr th:only-of-type {\n",
       "        vertical-align: middle;\n",
       "    }\n",
       "\n",
       "    .dataframe tbody tr th {\n",
       "        vertical-align: top;\n",
       "    }\n",
       "\n",
       "    .dataframe thead th {\n",
       "        text-align: right;\n",
       "    }\n",
       "</style>\n",
       "<table border=\"1\" class=\"dataframe\">\n",
       "  <thead>\n",
       "    <tr style=\"text-align: right;\">\n",
       "      <th></th>\n",
       "      <th>first_name</th>\n",
       "      <th>last_name</th>\n",
       "      <th>email</th>\n",
       "      <th>phone</th>\n",
       "      <th>national_number</th>\n",
       "      <th>birthdate</th>\n",
       "      <th>age</th>\n",
       "      <th>gender_digit</th>\n",
       "    </tr>\n",
       "  </thead>\n",
       "  <tbody>\n",
       "    <tr>\n",
       "      <th>0</th>\n",
       "      <td>Édouard</td>\n",
       "      <td>Hoarau</td>\n",
       "      <td>obrun@huet-s-a-s.com</td>\n",
       "      <td>+32 (0)4 43 93 75 89</td>\n",
       "      <td>57.04.25-655.94</td>\n",
       "      <td>1957-04-25</td>\n",
       "      <td>66</td>\n",
       "      <td>5</td>\n",
       "    </tr>\n",
       "    <tr>\n",
       "      <th>1</th>\n",
       "      <td>Nath</td>\n",
       "      <td>Raymond</td>\n",
       "      <td>zpichon@gimenez.net</td>\n",
       "      <td>0427798177</td>\n",
       "      <td>66.07.21-762.08</td>\n",
       "      <td>1966-07-21</td>\n",
       "      <td>57</td>\n",
       "      <td>2</td>\n",
       "    </tr>\n",
       "    <tr>\n",
       "      <th>2</th>\n",
       "      <td>Élise</td>\n",
       "      <td>Reynaud</td>\n",
       "      <td>christiane56@thibault-boyer-s-a-s.com</td>\n",
       "      <td>05 64 21 64 81</td>\n",
       "      <td>80.07.22-299.56</td>\n",
       "      <td>1980-07-22</td>\n",
       "      <td>43</td>\n",
       "      <td>9</td>\n",
       "    </tr>\n",
       "    <tr>\n",
       "      <th>3</th>\n",
       "      <td>Laure</td>\n",
       "      <td>Gérard</td>\n",
       "      <td>reneetoussaint@weiss.net</td>\n",
       "      <td>04 11 64 97 53</td>\n",
       "      <td>89.04.01-944.45</td>\n",
       "      <td>1989-04-01</td>\n",
       "      <td>34</td>\n",
       "      <td>4</td>\n",
       "    </tr>\n",
       "    <tr>\n",
       "      <th>4</th>\n",
       "      <td>Célina</td>\n",
       "      <td>Ledoux</td>\n",
       "      <td>bergerchristophe@blanc.com</td>\n",
       "      <td>02 72 54 34 00</td>\n",
       "      <td>58.05.11-442.46</td>\n",
       "      <td>1958-05-11</td>\n",
       "      <td>65</td>\n",
       "      <td>2</td>\n",
       "    </tr>\n",
       "  </tbody>\n",
       "</table>\n",
       "</div>"
      ],
      "text/plain": [
       "  first_name last_name                                  email  \\\n",
       "0    Édouard    Hoarau                   obrun@huet-s-a-s.com   \n",
       "1       Nath   Raymond                    zpichon@gimenez.net   \n",
       "2      Élise   Reynaud  christiane56@thibault-boyer-s-a-s.com   \n",
       "3      Laure    Gérard               reneetoussaint@weiss.net   \n",
       "4     Célina    Ledoux             bergerchristophe@blanc.com   \n",
       "\n",
       "                  phone  national_number  birthdate  age  gender_digit  \n",
       "0  +32 (0)4 43 93 75 89  57.04.25-655.94 1957-04-25   66             5  \n",
       "1            0427798177  66.07.21-762.08 1966-07-21   57             2  \n",
       "2        05 64 21 64 81  80.07.22-299.56 1980-07-22   43             9  \n",
       "3        04 11 64 97 53  89.04.01-944.45 1989-04-01   34             4  \n",
       "4        02 72 54 34 00  58.05.11-442.46 1958-05-11   65             2  "
      ]
     },
     "execution_count": 19,
     "metadata": {},
     "output_type": "execute_result"
    }
   ],
   "source": [
    "# find gender from the national number : if 4th from the end is even, then it is a female else it should be a male\n",
    "df['gender_digit'] = df['national_number'].str[-4].astype(int)\n",
    "df.head()"
   ]
  },
  {
   "cell_type": "code",
   "execution_count": 20,
   "metadata": {},
   "outputs": [
    {
     "data": {
      "text/html": [
       "<div>\n",
       "<style scoped>\n",
       "    .dataframe tbody tr th:only-of-type {\n",
       "        vertical-align: middle;\n",
       "    }\n",
       "\n",
       "    .dataframe tbody tr th {\n",
       "        vertical-align: top;\n",
       "    }\n",
       "\n",
       "    .dataframe thead th {\n",
       "        text-align: right;\n",
       "    }\n",
       "</style>\n",
       "<table border=\"1\" class=\"dataframe\">\n",
       "  <thead>\n",
       "    <tr style=\"text-align: right;\">\n",
       "      <th></th>\n",
       "      <th>first_name</th>\n",
       "      <th>last_name</th>\n",
       "      <th>email</th>\n",
       "      <th>phone</th>\n",
       "      <th>national_number</th>\n",
       "      <th>birthdate</th>\n",
       "      <th>age</th>\n",
       "      <th>gender_digit</th>\n",
       "      <th>gender</th>\n",
       "    </tr>\n",
       "  </thead>\n",
       "  <tbody>\n",
       "    <tr>\n",
       "      <th>0</th>\n",
       "      <td>Édouard</td>\n",
       "      <td>Hoarau</td>\n",
       "      <td>obrun@huet-s-a-s.com</td>\n",
       "      <td>+32 (0)4 43 93 75 89</td>\n",
       "      <td>57.04.25-655.94</td>\n",
       "      <td>1957-04-25</td>\n",
       "      <td>66</td>\n",
       "      <td>5</td>\n",
       "      <td>Male</td>\n",
       "    </tr>\n",
       "    <tr>\n",
       "      <th>1</th>\n",
       "      <td>Nath</td>\n",
       "      <td>Raymond</td>\n",
       "      <td>zpichon@gimenez.net</td>\n",
       "      <td>0427798177</td>\n",
       "      <td>66.07.21-762.08</td>\n",
       "      <td>1966-07-21</td>\n",
       "      <td>57</td>\n",
       "      <td>2</td>\n",
       "      <td>Female</td>\n",
       "    </tr>\n",
       "    <tr>\n",
       "      <th>2</th>\n",
       "      <td>Élise</td>\n",
       "      <td>Reynaud</td>\n",
       "      <td>christiane56@thibault-boyer-s-a-s.com</td>\n",
       "      <td>05 64 21 64 81</td>\n",
       "      <td>80.07.22-299.56</td>\n",
       "      <td>1980-07-22</td>\n",
       "      <td>43</td>\n",
       "      <td>9</td>\n",
       "      <td>Male</td>\n",
       "    </tr>\n",
       "    <tr>\n",
       "      <th>3</th>\n",
       "      <td>Laure</td>\n",
       "      <td>Gérard</td>\n",
       "      <td>reneetoussaint@weiss.net</td>\n",
       "      <td>04 11 64 97 53</td>\n",
       "      <td>89.04.01-944.45</td>\n",
       "      <td>1989-04-01</td>\n",
       "      <td>34</td>\n",
       "      <td>4</td>\n",
       "      <td>Female</td>\n",
       "    </tr>\n",
       "    <tr>\n",
       "      <th>4</th>\n",
       "      <td>Célina</td>\n",
       "      <td>Ledoux</td>\n",
       "      <td>bergerchristophe@blanc.com</td>\n",
       "      <td>02 72 54 34 00</td>\n",
       "      <td>58.05.11-442.46</td>\n",
       "      <td>1958-05-11</td>\n",
       "      <td>65</td>\n",
       "      <td>2</td>\n",
       "      <td>Female</td>\n",
       "    </tr>\n",
       "  </tbody>\n",
       "</table>\n",
       "</div>"
      ],
      "text/plain": [
       "  first_name last_name                                  email  \\\n",
       "0    Édouard    Hoarau                   obrun@huet-s-a-s.com   \n",
       "1       Nath   Raymond                    zpichon@gimenez.net   \n",
       "2      Élise   Reynaud  christiane56@thibault-boyer-s-a-s.com   \n",
       "3      Laure    Gérard               reneetoussaint@weiss.net   \n",
       "4     Célina    Ledoux             bergerchristophe@blanc.com   \n",
       "\n",
       "                  phone  national_number  birthdate  age  gender_digit  gender  \n",
       "0  +32 (0)4 43 93 75 89  57.04.25-655.94 1957-04-25   66             5    Male  \n",
       "1            0427798177  66.07.21-762.08 1966-07-21   57             2  Female  \n",
       "2        05 64 21 64 81  80.07.22-299.56 1980-07-22   43             9    Male  \n",
       "3        04 11 64 97 53  89.04.01-944.45 1989-04-01   34             4  Female  \n",
       "4        02 72 54 34 00  58.05.11-442.46 1958-05-11   65             2  Female  "
      ]
     },
     "execution_count": 20,
     "metadata": {},
     "output_type": "execute_result"
    }
   ],
   "source": [
    "def get_gender(fourth_digit_from_end):\n",
    "    return 'Female' if fourth_digit_from_end % 2 == 0 else 'Male'\n",
    "\n",
    "# if last digit is even then it is a male\n",
    "df['gender'] = df['gender_digit'].apply(get_gender)\n",
    "df.head() "
   ]
  },
  {
   "cell_type": "code",
   "execution_count": 21,
   "metadata": {},
   "outputs": [
    {
     "data": {
      "text/html": [
       "<div>\n",
       "<style scoped>\n",
       "    .dataframe tbody tr th:only-of-type {\n",
       "        vertical-align: middle;\n",
       "    }\n",
       "\n",
       "    .dataframe tbody tr th {\n",
       "        vertical-align: top;\n",
       "    }\n",
       "\n",
       "    .dataframe thead th {\n",
       "        text-align: right;\n",
       "    }\n",
       "</style>\n",
       "<table border=\"1\" class=\"dataframe\">\n",
       "  <thead>\n",
       "    <tr style=\"text-align: right;\">\n",
       "      <th></th>\n",
       "      <th>first_name</th>\n",
       "      <th>last_name</th>\n",
       "      <th>email</th>\n",
       "      <th>phone</th>\n",
       "      <th>national_number</th>\n",
       "      <th>birthdate</th>\n",
       "      <th>age</th>\n",
       "      <th>gender_digit</th>\n",
       "      <th>gender</th>\n",
       "      <th>age_category</th>\n",
       "    </tr>\n",
       "  </thead>\n",
       "  <tbody>\n",
       "    <tr>\n",
       "      <th>0</th>\n",
       "      <td>Édouard</td>\n",
       "      <td>Hoarau</td>\n",
       "      <td>obrun@huet-s-a-s.com</td>\n",
       "      <td>+32 (0)4 43 93 75 89</td>\n",
       "      <td>57.04.25-655.94</td>\n",
       "      <td>1957-04-25</td>\n",
       "      <td>66</td>\n",
       "      <td>5</td>\n",
       "      <td>Male</td>\n",
       "      <td>47-113 Senior</td>\n",
       "    </tr>\n",
       "    <tr>\n",
       "      <th>1</th>\n",
       "      <td>Nath</td>\n",
       "      <td>Raymond</td>\n",
       "      <td>zpichon@gimenez.net</td>\n",
       "      <td>0427798177</td>\n",
       "      <td>66.07.21-762.08</td>\n",
       "      <td>1966-07-21</td>\n",
       "      <td>57</td>\n",
       "      <td>2</td>\n",
       "      <td>Female</td>\n",
       "      <td>47-113 Senior</td>\n",
       "    </tr>\n",
       "    <tr>\n",
       "      <th>2</th>\n",
       "      <td>Élise</td>\n",
       "      <td>Reynaud</td>\n",
       "      <td>christiane56@thibault-boyer-s-a-s.com</td>\n",
       "      <td>05 64 21 64 81</td>\n",
       "      <td>80.07.22-299.56</td>\n",
       "      <td>1980-07-22</td>\n",
       "      <td>43</td>\n",
       "      <td>9</td>\n",
       "      <td>Male</td>\n",
       "      <td>43-46 À point</td>\n",
       "    </tr>\n",
       "    <tr>\n",
       "      <th>3</th>\n",
       "      <td>Laure</td>\n",
       "      <td>Gérard</td>\n",
       "      <td>reneetoussaint@weiss.net</td>\n",
       "      <td>04 11 64 97 53</td>\n",
       "      <td>89.04.01-944.45</td>\n",
       "      <td>1989-04-01</td>\n",
       "      <td>34</td>\n",
       "      <td>4</td>\n",
       "      <td>Female</td>\n",
       "      <td>0-38 Jeune</td>\n",
       "    </tr>\n",
       "    <tr>\n",
       "      <th>4</th>\n",
       "      <td>Célina</td>\n",
       "      <td>Ledoux</td>\n",
       "      <td>bergerchristophe@blanc.com</td>\n",
       "      <td>02 72 54 34 00</td>\n",
       "      <td>58.05.11-442.46</td>\n",
       "      <td>1958-05-11</td>\n",
       "      <td>65</td>\n",
       "      <td>2</td>\n",
       "      <td>Female</td>\n",
       "      <td>47-113 Senior</td>\n",
       "    </tr>\n",
       "  </tbody>\n",
       "</table>\n",
       "</div>"
      ],
      "text/plain": [
       "  first_name last_name                                  email  \\\n",
       "0    Édouard    Hoarau                   obrun@huet-s-a-s.com   \n",
       "1       Nath   Raymond                    zpichon@gimenez.net   \n",
       "2      Élise   Reynaud  christiane56@thibault-boyer-s-a-s.com   \n",
       "3      Laure    Gérard               reneetoussaint@weiss.net   \n",
       "4     Célina    Ledoux             bergerchristophe@blanc.com   \n",
       "\n",
       "                  phone  national_number  birthdate  age  gender_digit  \\\n",
       "0  +32 (0)4 43 93 75 89  57.04.25-655.94 1957-04-25   66             5   \n",
       "1            0427798177  66.07.21-762.08 1966-07-21   57             2   \n",
       "2        05 64 21 64 81  80.07.22-299.56 1980-07-22   43             9   \n",
       "3        04 11 64 97 53  89.04.01-944.45 1989-04-01   34             4   \n",
       "4        02 72 54 34 00  58.05.11-442.46 1958-05-11   65             2   \n",
       "\n",
       "   gender   age_category  \n",
       "0    Male  47-113 Senior  \n",
       "1  Female  47-113 Senior  \n",
       "2    Male  43-46 À point  \n",
       "3  Female     0-38 Jeune  \n",
       "4  Female  47-113 Senior  "
      ]
     },
     "execution_count": 21,
     "metadata": {},
     "output_type": "execute_result"
    }
   ],
   "source": [
    "# add a age category column\n",
    "df['age_category'] = pd.cut(\n",
    "                    df['age'], \n",
    "                    bins=[0, 38, 42, 46, 113], \n",
    "                    labels=['0-38 Jeune', '39-42 Adulte', '43-46 À point', '47-113 Senior']\n",
    "                    )\n",
    "\n",
    "df.head()"
   ]
  },
  {
   "cell_type": "code",
   "execution_count": 22,
   "metadata": {},
   "outputs": [
    {
     "data": {
      "text/html": [
       "<div>\n",
       "<style scoped>\n",
       "    .dataframe tbody tr th:only-of-type {\n",
       "        vertical-align: middle;\n",
       "    }\n",
       "\n",
       "    .dataframe tbody tr th {\n",
       "        vertical-align: top;\n",
       "    }\n",
       "\n",
       "    .dataframe thead th {\n",
       "        text-align: right;\n",
       "    }\n",
       "</style>\n",
       "<table border=\"1\" class=\"dataframe\">\n",
       "  <thead>\n",
       "    <tr style=\"text-align: right;\">\n",
       "      <th></th>\n",
       "      <th>first_name</th>\n",
       "      <th>last_name</th>\n",
       "      <th>email</th>\n",
       "      <th>phone</th>\n",
       "      <th>national_number</th>\n",
       "      <th>birthdate</th>\n",
       "      <th>age</th>\n",
       "      <th>gender_digit</th>\n",
       "      <th>gender</th>\n",
       "      <th>age_category</th>\n",
       "      <th>company</th>\n",
       "    </tr>\n",
       "  </thead>\n",
       "  <tbody>\n",
       "    <tr>\n",
       "      <th>0</th>\n",
       "      <td>Édouard</td>\n",
       "      <td>Hoarau</td>\n",
       "      <td>obrun@huet-s-a-s.com</td>\n",
       "      <td>+32 (0)4 43 93 75 89</td>\n",
       "      <td>57.04.25-655.94</td>\n",
       "      <td>1957-04-25</td>\n",
       "      <td>66</td>\n",
       "      <td>5</td>\n",
       "      <td>Male</td>\n",
       "      <td>47-113 Senior</td>\n",
       "      <td>Huet s a s</td>\n",
       "    </tr>\n",
       "    <tr>\n",
       "      <th>1</th>\n",
       "      <td>Nath</td>\n",
       "      <td>Raymond</td>\n",
       "      <td>zpichon@gimenez.net</td>\n",
       "      <td>0427798177</td>\n",
       "      <td>66.07.21-762.08</td>\n",
       "      <td>1966-07-21</td>\n",
       "      <td>57</td>\n",
       "      <td>2</td>\n",
       "      <td>Female</td>\n",
       "      <td>47-113 Senior</td>\n",
       "      <td>Gimenez</td>\n",
       "    </tr>\n",
       "    <tr>\n",
       "      <th>2</th>\n",
       "      <td>Élise</td>\n",
       "      <td>Reynaud</td>\n",
       "      <td>christiane56@thibault-boyer-s-a-s.com</td>\n",
       "      <td>05 64 21 64 81</td>\n",
       "      <td>80.07.22-299.56</td>\n",
       "      <td>1980-07-22</td>\n",
       "      <td>43</td>\n",
       "      <td>9</td>\n",
       "      <td>Male</td>\n",
       "      <td>43-46 À point</td>\n",
       "      <td>Thibault boyer s a s</td>\n",
       "    </tr>\n",
       "    <tr>\n",
       "      <th>3</th>\n",
       "      <td>Laure</td>\n",
       "      <td>Gérard</td>\n",
       "      <td>reneetoussaint@weiss.net</td>\n",
       "      <td>04 11 64 97 53</td>\n",
       "      <td>89.04.01-944.45</td>\n",
       "      <td>1989-04-01</td>\n",
       "      <td>34</td>\n",
       "      <td>4</td>\n",
       "      <td>Female</td>\n",
       "      <td>0-38 Jeune</td>\n",
       "      <td>Weiss</td>\n",
       "    </tr>\n",
       "    <tr>\n",
       "      <th>4</th>\n",
       "      <td>Célina</td>\n",
       "      <td>Ledoux</td>\n",
       "      <td>bergerchristophe@blanc.com</td>\n",
       "      <td>02 72 54 34 00</td>\n",
       "      <td>58.05.11-442.46</td>\n",
       "      <td>1958-05-11</td>\n",
       "      <td>65</td>\n",
       "      <td>2</td>\n",
       "      <td>Female</td>\n",
       "      <td>47-113 Senior</td>\n",
       "      <td>Blanc</td>\n",
       "    </tr>\n",
       "  </tbody>\n",
       "</table>\n",
       "</div>"
      ],
      "text/plain": [
       "  first_name last_name                                  email  \\\n",
       "0    Édouard    Hoarau                   obrun@huet-s-a-s.com   \n",
       "1       Nath   Raymond                    zpichon@gimenez.net   \n",
       "2      Élise   Reynaud  christiane56@thibault-boyer-s-a-s.com   \n",
       "3      Laure    Gérard               reneetoussaint@weiss.net   \n",
       "4     Célina    Ledoux             bergerchristophe@blanc.com   \n",
       "\n",
       "                  phone  national_number  birthdate  age  gender_digit  \\\n",
       "0  +32 (0)4 43 93 75 89  57.04.25-655.94 1957-04-25   66             5   \n",
       "1            0427798177  66.07.21-762.08 1966-07-21   57             2   \n",
       "2        05 64 21 64 81  80.07.22-299.56 1980-07-22   43             9   \n",
       "3        04 11 64 97 53  89.04.01-944.45 1989-04-01   34             4   \n",
       "4        02 72 54 34 00  58.05.11-442.46 1958-05-11   65             2   \n",
       "\n",
       "   gender   age_category               company  \n",
       "0    Male  47-113 Senior            Huet s a s  \n",
       "1  Female  47-113 Senior               Gimenez  \n",
       "2    Male  43-46 À point  Thibault boyer s a s  \n",
       "3  Female     0-38 Jeune                 Weiss  \n",
       "4  Female  47-113 Senior                 Blanc  "
      ]
     },
     "execution_count": 22,
     "metadata": {},
     "output_type": "execute_result"
    }
   ],
   "source": [
    "# get company from domain name\n",
    "df['company'] = df['email'].str.split('@').str[1].str.split('.').str[0]\n",
    "df['company'] = df['company'].str.capitalize()\n",
    "df['company'] = df['company'].str.replace('-', ' ')\n",
    "\n",
    "df.head()"
   ]
  },
  {
   "cell_type": "code",
   "execution_count": 23,
   "metadata": {},
   "outputs": [],
   "source": [
    "# remove phone\n",
    "df = df.drop(columns=['phone', 'gender_digit', 'email'])"
   ]
  },
  {
   "cell_type": "code",
   "execution_count": 24,
   "metadata": {},
   "outputs": [
    {
     "data": {
      "text/html": [
       "<div>\n",
       "<style scoped>\n",
       "    .dataframe tbody tr th:only-of-type {\n",
       "        vertical-align: middle;\n",
       "    }\n",
       "\n",
       "    .dataframe tbody tr th {\n",
       "        vertical-align: top;\n",
       "    }\n",
       "\n",
       "    .dataframe thead th {\n",
       "        text-align: right;\n",
       "    }\n",
       "</style>\n",
       "<table border=\"1\" class=\"dataframe\">\n",
       "  <thead>\n",
       "    <tr style=\"text-align: right;\">\n",
       "      <th></th>\n",
       "      <th>first_name</th>\n",
       "      <th>last_name</th>\n",
       "      <th>national_number</th>\n",
       "      <th>birthdate</th>\n",
       "      <th>age</th>\n",
       "      <th>gender</th>\n",
       "      <th>age_category</th>\n",
       "      <th>company</th>\n",
       "      <th>full_name</th>\n",
       "    </tr>\n",
       "  </thead>\n",
       "  <tbody>\n",
       "    <tr>\n",
       "      <th>473</th>\n",
       "      <td>Lucy</td>\n",
       "      <td>Clerc</td>\n",
       "      <td>48.06.09-074.43</td>\n",
       "      <td>1948-06-09</td>\n",
       "      <td>75</td>\n",
       "      <td>Female</td>\n",
       "      <td>47-113 Senior</td>\n",
       "      <td>Dupuis</td>\n",
       "      <td>Lucy Clerc</td>\n",
       "    </tr>\n",
       "    <tr>\n",
       "      <th>193</th>\n",
       "      <td>Margot</td>\n",
       "      <td>Merle</td>\n",
       "      <td>86.01.08-897.90</td>\n",
       "      <td>1986-01-08</td>\n",
       "      <td>38</td>\n",
       "      <td>Male</td>\n",
       "      <td>0-38 Jeune</td>\n",
       "      <td>Lacroix</td>\n",
       "      <td>Margot Merle</td>\n",
       "    </tr>\n",
       "    <tr>\n",
       "      <th>124</th>\n",
       "      <td>Stéphane</td>\n",
       "      <td>Chrétien</td>\n",
       "      <td>49.01.06-304.09</td>\n",
       "      <td>1949-01-06</td>\n",
       "      <td>75</td>\n",
       "      <td>Female</td>\n",
       "      <td>47-113 Senior</td>\n",
       "      <td>Julien legros sarl</td>\n",
       "      <td>Stéphane Chrétien</td>\n",
       "    </tr>\n",
       "    <tr>\n",
       "      <th>895</th>\n",
       "      <td>Isabelle</td>\n",
       "      <td>Collet</td>\n",
       "      <td>75.06.13-041.18</td>\n",
       "      <td>1975-06-13</td>\n",
       "      <td>48</td>\n",
       "      <td>Male</td>\n",
       "      <td>47-113 Senior</td>\n",
       "      <td>Duval sauvage s a s</td>\n",
       "      <td>Isabelle Collet</td>\n",
       "    </tr>\n",
       "    <tr>\n",
       "      <th>634</th>\n",
       "      <td>Maryse</td>\n",
       "      <td>Vasseur</td>\n",
       "      <td>87.04.28-123.80</td>\n",
       "      <td>1987-04-28</td>\n",
       "      <td>36</td>\n",
       "      <td>Male</td>\n",
       "      <td>0-38 Jeune</td>\n",
       "      <td>Lemoine</td>\n",
       "      <td>Maryse Vasseur</td>\n",
       "    </tr>\n",
       "  </tbody>\n",
       "</table>\n",
       "</div>"
      ],
      "text/plain": [
       "    first_name last_name  national_number  birthdate  age  gender  \\\n",
       "473       Lucy     Clerc  48.06.09-074.43 1948-06-09   75  Female   \n",
       "193     Margot     Merle  86.01.08-897.90 1986-01-08   38    Male   \n",
       "124   Stéphane  Chrétien  49.01.06-304.09 1949-01-06   75  Female   \n",
       "895   Isabelle    Collet  75.06.13-041.18 1975-06-13   48    Male   \n",
       "634     Maryse   Vasseur  87.04.28-123.80 1987-04-28   36    Male   \n",
       "\n",
       "      age_category              company          full_name  \n",
       "473  47-113 Senior               Dupuis         Lucy Clerc  \n",
       "193     0-38 Jeune              Lacroix       Margot Merle  \n",
       "124  47-113 Senior   Julien legros sarl  Stéphane Chrétien  \n",
       "895  47-113 Senior  Duval sauvage s a s    Isabelle Collet  \n",
       "634     0-38 Jeune              Lemoine     Maryse Vasseur  "
      ]
     },
     "execution_count": 24,
     "metadata": {},
     "output_type": "execute_result"
    }
   ],
   "source": [
    "# create a full name column\n",
    "df['full_name'] = df['first_name'] + ' ' + df['last_name']\n",
    "df.sample(5)"
   ]
  },
  {
   "cell_type": "code",
   "execution_count": 25,
   "metadata": {},
   "outputs": [],
   "source": [
    "df.to_csv('./datasets/persons_cleaned.csv', index=False)"
   ]
  },
  {
   "cell_type": "markdown",
   "metadata": {},
   "source": [
    "# Visualisation des données"
   ]
  },
  {
   "cell_type": "code",
   "execution_count": 26,
   "metadata": {},
   "outputs": [
    {
     "data": {
      "text/plain": [
       "<AxesSubplot: ylabel='Frequency'>"
      ]
     },
     "execution_count": 26,
     "metadata": {},
     "output_type": "execute_result"
    },
    {
     "data": {
      "image/png": "[encoded data removed]",
      "text/plain": [
       "<Figure size 640x480 with 1 Axes>"
      ]
     },
     "metadata": {},
     "output_type": "display_data"
    }
   ],
   "source": [
    "# plot the age distribution\n",
    "df['age'].plot(kind='hist', bins=20)"
   ]
  },
  {
   "cell_type": "code",
   "execution_count": 27,
   "metadata": {},
   "outputs": [
    {
     "data": {
      "text/plain": [
       "<AxesSubplot: >"
      ]
     },
     "execution_count": 27,
     "metadata": {},
     "output_type": "execute_result"
    },
    {
     "data": {
      "image/png": "[encoded data removed]",
      "text/plain": [
       "<Figure size 640x480 with 1 Axes>"
      ]
     },
     "metadata": {},
     "output_type": "display_data"
    }
   ],
   "source": [
    "# plot the age category distribution ordered by age\n",
    "df['age_category'].value_counts().sort_index().plot(kind='bar', color='green')"
   ]
  },
  {
   "cell_type": "code",
   "execution_count": 28,
   "metadata": {},
   "outputs": [
    {
     "data": {
      "application/vnd.plotly.v1+json": {
       "config": {
        "plotlyServerURL": "https://plot.ly"
       },
       "data": [
        {
         "alignmentgroup": "True",
         "bingroup": "x",
         "hovertemplate": "gender=Male<br>Age category=%{x}<br>count=%{y}<extra></extra>",
         "legendgroup": "Male",
         "marker": {
          "color": "#636efa",
          "pattern": {
           "shape": ""
          }
         },
         "name": "Male",
         "offsetgroup": "Male",
         "orientation": "v",
         "showlegend": true,
         "type": "histogram",
         "x": [
          "47-113 Senior",
          "43-46 À point",
          "47-113 Senior",
          "47-113 Senior",
          "47-113 Senior",
          "0-38 Jeune",
          "47-113 Senior",
          "0-38 Jeune",
          "43-46 À point",
          "47-113 Senior",
          "47-113 Senior",
          "47-113 Senior",
          "47-113 Senior",
          "0-38 Jeune",
          "0-38 Jeune",
          "43-46 À point",
          "39-42 Adulte",
          "47-113 Senior",
          "43-46 À point",
          "47-113 Senior",
          "39-42 Adulte",
          "47-113 Senior",
          "0-38 Jeune",
          "47-113 Senior",
          "47-113 Senior",
          "47-113 Senior",
          "47-113 Senior",
          "0-38 Jeune",
          "47-113 Senior",
          "47-113 Senior",
          "43-46 À point",
          "47-113 Senior",
          "47-113 Senior",
          "0-38 Jeune",
          "47-113 Senior",
          "47-113 Senior",
          "47-113 Senior",
          "47-113 Senior",
          "43-46 À point",
          "0-38 Jeune",
          "47-113 Senior",
          "39-42 Adulte",
          "0-38 Jeune",
          "0-38 Jeune",
          "47-113 Senior",
          "47-113 Senior",
          "47-113 Senior",
          "47-113 Senior",
          "47-113 Senior",
          "47-113 Senior",
          "47-113 Senior",
          "47-113 Senior",
          "0-38 Jeune",
          "0-38 Jeune",
          "47-113 Senior",
          "47-113 Senior",
          "47-113 Senior",
          "47-113 Senior",
          "47-113 Senior",
          "47-113 Senior",
          "47-113 Senior",
          "47-113 Senior",
          "47-113 Senior",
          "47-113 Senior",
          "47-113 Senior",
          "47-113 Senior",
          "47-113 Senior",
          "0-38 Jeune",
          "47-113 Senior",
          "47-113 Senior",
          "47-113 Senior",
          "47-113 Senior",
          "47-113 Senior",
          "47-113 Senior",
          "47-113 Senior",
          "39-42 Adulte",
          "47-113 Senior",
          "0-38 Jeune",
          "47-113 Senior",
          "0-38 Jeune",
          "39-42 Adulte",
          "47-113 Senior",
          "47-113 Senior",
          "0-38 Jeune",
          "47-113 Senior",
          "0-38 Jeune",
          "0-38 Jeune",
          "0-38 Jeune",
          "0-38 Jeune",
          "47-113 Senior",
          "47-113 Senior",
          "39-42 Adulte",
          "47-113 Senior",
          "0-38 Jeune",
          "47-113 Senior",
          "43-46 À point",
          "39-42 Adulte",
          "43-46 À point",
          "43-46 À point",
          "47-113 Senior",
          "43-46 À point",
          "0-38 Jeune",
          "47-113 Senior",
          "0-38 Jeune",
          "47-113 Senior",
          "39-42 Adulte",
          "0-38 Jeune",
          "0-38 Jeune",
          "0-38 Jeune",
          "47-113 Senior",
          "39-42 Adulte",
          "0-38 Jeune",
          "0-38 Jeune",
          "47-113 Senior",
          "39-42 Adulte",
          "39-42 Adulte",
          "47-113 Senior",
          "0-38 Jeune",
          "43-46 À point",
          "43-46 À point",
          "47-113 Senior",
          "0-38 Jeune",
          "47-113 Senior",
          "39-42 Adulte",
          "47-113 Senior",
          "47-113 Senior",
          "47-113 Senior",
          "0-38 Jeune",
          "43-46 À point",
          "47-113 Senior",
          "0-38 Jeune",
          "39-42 Adulte",
          "47-113 Senior",
          "0-38 Jeune",
          "39-42 Adulte",
          "0-38 Jeune",
          "47-113 Senior",
          "0-38 Jeune",
          "39-42 Adulte",
          "0-38 Jeune",
          "0-38 Jeune",
          "47-113 Senior",
          "47-113 Senior",
          "47-113 Senior",
          "47-113 Senior",
          "0-38 Jeune",
          "47-113 Senior",
          "39-42 Adulte",
          "47-113 Senior",
          "47-113 Senior",
          "47-113 Senior",
          "47-113 Senior",
          "47-113 Senior",
          "47-113 Senior",
          "47-113 Senior",
          "0-38 Jeune",
          "0-38 Jeune",
          "0-38 Jeune",
          "47-113 Senior",
          "0-38 Jeune",
          "0-38 Jeune",
          "47-113 Senior",
          "47-113 Senior",
          "47-113 Senior",
          "47-113 Senior",
          "47-113 Senior",
          "47-113 Senior",
          "47-113 Senior",
          "47-113 Senior",
          "39-42 Adulte",
          "39-42 Adulte",
          "39-42 Adulte",
          "0-38 Jeune",
          "0-38 Jeune",
          "0-38 Jeune",
          "47-113 Senior",
          "0-38 Jeune",
          "47-113 Senior",
          "47-113 Senior",
          "0-38 Jeune",
          "0-38 Jeune",
          "0-38 Jeune",
          "39-42 Adulte",
          "47-113 Senior",
          "47-113 Senior",
          "47-113 Senior",
          "43-46 À point",
          "0-38 Jeune",
          "0-38 Jeune",
          "47-113 Senior",
          "47-113 Senior",
          "0-38 Jeune",
          "47-113 Senior",
          "47-113 Senior",
          "0-38 Jeune",
          "0-38 Jeune",
          "39-42 Adulte",
          "43-46 À point",
          "0-38 Jeune",
          "47-113 Senior",
          "43-46 À point",
          "47-113 Senior",
          "0-38 Jeune",
          "0-38 Jeune",
          "47-113 Senior",
          "47-113 Senior",
          "47-113 Senior",
          "0-38 Jeune",
          "47-113 Senior",
          "0-38 Jeune",
          "0-38 Jeune",
          "47-113 Senior",
          "39-42 Adulte",
          "43-46 À point",
          "47-113 Senior",
          "47-113 Senior",
          "47-113 Senior",
          "0-38 Jeune",
          "43-46 À point",
          "0-38 Jeune",
          "0-38 Jeune",
          "0-38 Jeune",
          "0-38 Jeune",
          "0-38 Jeune",
          "47-113 Senior",
          "47-113 Senior",
          "47-113 Senior",
          "39-42 Adulte",
          "0-38 Jeune",
          "47-113 Senior",
          "47-113 Senior",
          "47-113 Senior",
          "47-113 Senior",
          "0-38 Jeune",
          "47-113 Senior",
          "47-113 Senior",
          "47-113 Senior",
          "0-38 Jeune",
          "39-42 Adulte",
          "47-113 Senior",
          "47-113 Senior",
          "0-38 Jeune",
          "47-113 Senior",
          "0-38 Jeune",
          "0-38 Jeune",
          "47-113 Senior",
          "47-113 Senior",
          "0-38 Jeune",
          "47-113 Senior",
          "47-113 Senior",
          "47-113 Senior",
          "39-42 Adulte",
          "47-113 Senior",
          "47-113 Senior",
          "47-113 Senior",
          "43-46 À point",
          "47-113 Senior",
          "47-113 Senior",
          "0-38 Jeune",
          "47-113 Senior",
          "47-113 Senior",
          "47-113 Senior",
          "0-38 Jeune",
          "47-113 Senior",
          "47-113 Senior",
          "43-46 À point",
          "0-38 Jeune",
          "47-113 Senior",
          "47-113 Senior",
          "47-113 Senior",
          "47-113 Senior",
          "0-38 Jeune",
          "0-38 Jeune",
          "39-42 Adulte",
          "0-38 Jeune",
          "0-38 Jeune",
          "47-113 Senior",
          "47-113 Senior",
          "47-113 Senior",
          "47-113 Senior",
          "0-38 Jeune",
          "47-113 Senior",
          "47-113 Senior",
          "39-42 Adulte",
          "0-38 Jeune",
          "47-113 Senior",
          "47-113 Senior",
          "47-113 Senior",
          "47-113 Senior",
          "0-38 Jeune",
          "47-113 Senior",
          "47-113 Senior",
          "47-113 Senior",
          "47-113 Senior",
          "0-38 Jeune",
          "0-38 Jeune",
          "47-113 Senior",
          "43-46 À point",
          "47-113 Senior",
          "43-46 À point",
          "0-38 Jeune",
          "47-113 Senior",
          "47-113 Senior",
          "47-113 Senior",
          "47-113 Senior",
          "47-113 Senior",
          "43-46 À point",
          "0-38 Jeune",
          "0-38 Jeune",
          "0-38 Jeune",
          "47-113 Senior",
          "43-46 À point",
          "47-113 Senior",
          "47-113 Senior",
          "47-113 Senior",
          "0-38 Jeune",
          "47-113 Senior",
          "47-113 Senior",
          "47-113 Senior",
          "47-113 Senior",
          "0-38 Jeune",
          "47-113 Senior",
          "47-113 Senior",
          "0-38 Jeune",
          "47-113 Senior",
          "0-38 Jeune",
          "47-113 Senior",
          "0-38 Jeune",
          "47-113 Senior",
          "47-113 Senior",
          "47-113 Senior",
          "0-38 Jeune",
          "47-113 Senior",
          "47-113 Senior",
          "47-113 Senior",
          "0-38 Jeune",
          "39-42 Adulte",
          "0-38 Jeune",
          "43-46 À point",
          "47-113 Senior",
          "0-38 Jeune",
          "0-38 Jeune",
          "47-113 Senior",
          "0-38 Jeune",
          "0-38 Jeune",
          "47-113 Senior",
          "47-113 Senior",
          "39-42 Adulte",
          "47-113 Senior",
          "0-38 Jeune",
          "47-113 Senior",
          "47-113 Senior",
          "0-38 Jeune",
          "47-113 Senior",
          "47-113 Senior",
          "0-38 Jeune",
          "47-113 Senior",
          "47-113 Senior",
          "47-113 Senior",
          "47-113 Senior",
          "47-113 Senior",
          "47-113 Senior",
          "47-113 Senior",
          "0-38 Jeune",
          "0-38 Jeune",
          "0-38 Jeune",
          "47-113 Senior",
          "47-113 Senior",
          "0-38 Jeune",
          "47-113 Senior",
          "47-113 Senior",
          "47-113 Senior",
          "47-113 Senior",
          "47-113 Senior",
          "47-113 Senior",
          "47-113 Senior",
          "0-38 Jeune",
          "47-113 Senior",
          "39-42 Adulte",
          "0-38 Jeune",
          "47-113 Senior",
          "47-113 Senior",
          "0-38 Jeune",
          "47-113 Senior",
          "39-42 Adulte",
          "47-113 Senior",
          "0-38 Jeune",
          "39-42 Adulte",
          "47-113 Senior",
          "39-42 Adulte",
          "0-38 Jeune",
          "39-42 Adulte",
          "43-46 À point",
          "0-38 Jeune",
          "39-42 Adulte",
          "47-113 Senior",
          "47-113 Senior",
          "47-113 Senior",
          "47-113 Senior",
          "47-113 Senior",
          "47-113 Senior",
          "43-46 À point",
          "47-113 Senior",
          "47-113 Senior",
          "43-46 À point",
          "0-38 Jeune",
          "47-113 Senior",
          "39-42 Adulte",
          "47-113 Senior",
          "0-38 Jeune",
          "47-113 Senior",
          "47-113 Senior",
          "47-113 Senior",
          "47-113 Senior",
          "47-113 Senior",
          "47-113 Senior",
          "47-113 Senior",
          "47-113 Senior",
          "47-113 Senior",
          "47-113 Senior",
          "47-113 Senior",
          "0-38 Jeune",
          "0-38 Jeune",
          "47-113 Senior",
          "47-113 Senior",
          "47-113 Senior",
          "47-113 Senior",
          "47-113 Senior",
          "39-42 Adulte",
          "0-38 Jeune",
          "43-46 À point",
          "47-113 Senior",
          "47-113 Senior",
          "0-38 Jeune",
          "47-113 Senior",
          "0-38 Jeune",
          "0-38 Jeune",
          "39-42 Adulte",
          "47-113 Senior",
          "47-113 Senior",
          "47-113 Senior",
          "0-38 Jeune",
          "0-38 Jeune",
          "0-38 Jeune",
          "47-113 Senior",
          "43-46 À point",
          "47-113 Senior",
          "39-42 Adulte",
          "0-38 Jeune",
          "47-113 Senior",
          "47-113 Senior",
          "43-46 À point",
          "47-113 Senior",
          "47-113 Senior",
          "47-113 Senior",
          "47-113 Senior",
          "47-113 Senior",
          "47-113 Senior",
          "47-113 Senior",
          "47-113 Senior",
          "47-113 Senior",
          "47-113 Senior",
          "0-38 Jeune",
          "47-113 Senior",
          "39-42 Adulte",
          "39-42 Adulte",
          "39-42 Adulte",
          "47-113 Senior",
          "47-113 Senior",
          "47-113 Senior",
          "39-42 Adulte",
          "39-42 Adulte",
          "43-46 À point",
          "0-38 Jeune",
          "47-113 Senior",
          "47-113 Senior",
          "0-38 Jeune",
          "0-38 Jeune",
          "39-42 Adulte",
          "0-38 Jeune",
          "0-38 Jeune",
          "47-113 Senior",
          "47-113 Senior",
          "47-113 Senior",
          "47-113 Senior",
          "47-113 Senior",
          "47-113 Senior",
          "39-42 Adulte",
          "47-113 Senior",
          "47-113 Senior",
          "0-38 Jeune",
          "47-113 Senior",
          "47-113 Senior",
          "47-113 Senior",
          "43-46 À point",
          "47-113 Senior",
          "43-46 À point",
          "0-38 Jeune",
          "0-38 Jeune",
          "47-113 Senior",
          "0-38 Jeune",
          "47-113 Senior",
          "47-113 Senior",
          "47-113 Senior",
          "47-113 Senior",
          "47-113 Senior",
          "47-113 Senior",
          "47-113 Senior"
         ],
         "xaxis": "x",
         "yaxis": "y"
        },
        {
         "alignmentgroup": "True",
         "bingroup": "x",
         "hovertemplate": "gender=Female<br>Age category=%{x}<br>count=%{y}<extra></extra>",
         "legendgroup": "Female",
         "marker": {
          "color": "#EF553B",
          "pattern": {
           "shape": ""
          }
         },
         "name": "Female",
         "offsetgroup": "Female",
         "orientation": "v",
         "showlegend": true,
         "type": "histogram",
         "x": [
          "47-113 Senior",
          "0-38 Jeune",
          "47-113 Senior",
          "47-113 Senior",
          "43-46 À point",
          "47-113 Senior",
          "47-113 Senior",
          "47-113 Senior",
          "47-113 Senior",
          "0-38 Jeune",
          "47-113 Senior",
          "43-46 À point",
          "47-113 Senior",
          "47-113 Senior",
          "47-113 Senior",
          "47-113 Senior",
          "47-113 Senior",
          "47-113 Senior",
          "47-113 Senior",
          "39-42 Adulte",
          "47-113 Senior",
          "47-113 Senior",
          "47-113 Senior",
          "47-113 Senior",
          "43-46 À point",
          "0-38 Jeune",
          "47-113 Senior",
          "47-113 Senior",
          "43-46 À point",
          "39-42 Adulte",
          "47-113 Senior",
          "47-113 Senior",
          "47-113 Senior",
          "43-46 À point",
          "47-113 Senior",
          "47-113 Senior",
          "47-113 Senior",
          "47-113 Senior",
          "43-46 À point",
          "0-38 Jeune",
          "43-46 À point",
          "47-113 Senior",
          "47-113 Senior",
          "47-113 Senior",
          "0-38 Jeune",
          "47-113 Senior",
          "47-113 Senior",
          "47-113 Senior",
          "47-113 Senior",
          "47-113 Senior",
          "47-113 Senior",
          "0-38 Jeune",
          "47-113 Senior",
          "0-38 Jeune",
          "0-38 Jeune",
          "47-113 Senior",
          "47-113 Senior",
          "0-38 Jeune",
          "0-38 Jeune",
          "47-113 Senior",
          "0-38 Jeune",
          "47-113 Senior",
          "47-113 Senior",
          "47-113 Senior",
          "47-113 Senior",
          "47-113 Senior",
          "0-38 Jeune",
          "0-38 Jeune",
          "47-113 Senior",
          "47-113 Senior",
          "43-46 À point",
          "47-113 Senior",
          "47-113 Senior",
          "39-42 Adulte",
          "0-38 Jeune",
          "0-38 Jeune",
          "39-42 Adulte",
          "47-113 Senior",
          "47-113 Senior",
          "47-113 Senior",
          "47-113 Senior",
          "0-38 Jeune",
          "0-38 Jeune",
          "47-113 Senior",
          "0-38 Jeune",
          "0-38 Jeune",
          "47-113 Senior",
          "47-113 Senior",
          "47-113 Senior",
          "47-113 Senior",
          "0-38 Jeune",
          "47-113 Senior",
          "39-42 Adulte",
          "47-113 Senior",
          "0-38 Jeune",
          "47-113 Senior",
          "47-113 Senior",
          "47-113 Senior",
          "47-113 Senior",
          "47-113 Senior",
          "0-38 Jeune",
          "47-113 Senior",
          "0-38 Jeune",
          "47-113 Senior",
          "47-113 Senior",
          "39-42 Adulte",
          "43-46 À point",
          "43-46 À point",
          "39-42 Adulte",
          "0-38 Jeune",
          "47-113 Senior",
          "43-46 À point",
          "0-38 Jeune",
          "0-38 Jeune",
          "0-38 Jeune",
          "0-38 Jeune",
          "47-113 Senior",
          "47-113 Senior",
          "0-38 Jeune",
          "47-113 Senior",
          "47-113 Senior",
          "47-113 Senior",
          "47-113 Senior",
          "43-46 À point",
          "47-113 Senior",
          "47-113 Senior",
          "47-113 Senior",
          "39-42 Adulte",
          "39-42 Adulte",
          "0-38 Jeune",
          "47-113 Senior",
          "0-38 Jeune",
          "47-113 Senior",
          "0-38 Jeune",
          "47-113 Senior",
          "47-113 Senior",
          "47-113 Senior",
          "47-113 Senior",
          "0-38 Jeune",
          "47-113 Senior",
          "47-113 Senior",
          "39-42 Adulte",
          "0-38 Jeune",
          "0-38 Jeune",
          "43-46 À point",
          "47-113 Senior",
          "47-113 Senior",
          "0-38 Jeune",
          "43-46 À point",
          "47-113 Senior",
          "0-38 Jeune",
          "0-38 Jeune",
          "0-38 Jeune",
          "0-38 Jeune",
          "47-113 Senior",
          "47-113 Senior",
          "0-38 Jeune",
          "0-38 Jeune",
          "0-38 Jeune",
          "43-46 À point",
          "47-113 Senior",
          "47-113 Senior",
          "47-113 Senior",
          "0-38 Jeune",
          "43-46 À point",
          "39-42 Adulte",
          "0-38 Jeune",
          "47-113 Senior",
          "0-38 Jeune",
          "47-113 Senior",
          "0-38 Jeune",
          "0-38 Jeune",
          "43-46 À point",
          "47-113 Senior",
          "47-113 Senior",
          "47-113 Senior",
          "47-113 Senior",
          "47-113 Senior",
          "0-38 Jeune",
          "39-42 Adulte",
          "47-113 Senior",
          "47-113 Senior",
          "47-113 Senior",
          "47-113 Senior",
          "0-38 Jeune",
          "0-38 Jeune",
          "47-113 Senior",
          "39-42 Adulte",
          "47-113 Senior",
          "47-113 Senior",
          "47-113 Senior",
          "47-113 Senior",
          "47-113 Senior",
          "47-113 Senior",
          "47-113 Senior",
          "47-113 Senior",
          "0-38 Jeune",
          "0-38 Jeune",
          "47-113 Senior",
          "0-38 Jeune",
          "43-46 À point",
          "47-113 Senior",
          "47-113 Senior",
          "47-113 Senior",
          "43-46 À point",
          "47-113 Senior",
          "0-38 Jeune",
          "0-38 Jeune",
          "47-113 Senior",
          "0-38 Jeune",
          "39-42 Adulte",
          "47-113 Senior",
          "47-113 Senior",
          "43-46 À point",
          "39-42 Adulte",
          "0-38 Jeune",
          "0-38 Jeune",
          "0-38 Jeune",
          "47-113 Senior",
          "47-113 Senior",
          "47-113 Senior",
          "47-113 Senior",
          "39-42 Adulte",
          "0-38 Jeune",
          "47-113 Senior",
          "47-113 Senior",
          "47-113 Senior",
          "47-113 Senior",
          "0-38 Jeune",
          "47-113 Senior",
          "39-42 Adulte",
          "47-113 Senior",
          "47-113 Senior",
          "47-113 Senior",
          "47-113 Senior",
          "0-38 Jeune",
          "47-113 Senior",
          "47-113 Senior",
          "43-46 À point",
          "39-42 Adulte",
          "0-38 Jeune",
          "0-38 Jeune",
          "47-113 Senior",
          "0-38 Jeune",
          "43-46 À point",
          "47-113 Senior",
          "0-38 Jeune",
          "0-38 Jeune",
          "0-38 Jeune",
          "47-113 Senior",
          "39-42 Adulte",
          "0-38 Jeune",
          "47-113 Senior",
          "47-113 Senior",
          "43-46 À point",
          "47-113 Senior",
          "0-38 Jeune",
          "0-38 Jeune",
          "0-38 Jeune",
          "47-113 Senior",
          "0-38 Jeune",
          "0-38 Jeune",
          "47-113 Senior",
          "0-38 Jeune",
          "0-38 Jeune",
          "47-113 Senior",
          "0-38 Jeune",
          "0-38 Jeune",
          "43-46 À point",
          "0-38 Jeune",
          "0-38 Jeune",
          "0-38 Jeune",
          "47-113 Senior",
          "0-38 Jeune",
          "0-38 Jeune",
          "47-113 Senior",
          "47-113 Senior",
          "43-46 À point",
          "0-38 Jeune",
          "47-113 Senior",
          "47-113 Senior",
          "47-113 Senior",
          "47-113 Senior",
          "47-113 Senior",
          "39-42 Adulte",
          "0-38 Jeune",
          "0-38 Jeune",
          "47-113 Senior",
          "0-38 Jeune",
          "47-113 Senior",
          "47-113 Senior",
          "47-113 Senior",
          "47-113 Senior",
          "47-113 Senior",
          "0-38 Jeune",
          "0-38 Jeune",
          "47-113 Senior",
          "43-46 À point",
          "47-113 Senior",
          "47-113 Senior",
          "47-113 Senior",
          "47-113 Senior",
          "47-113 Senior",
          "47-113 Senior",
          "47-113 Senior",
          "47-113 Senior",
          "47-113 Senior",
          "0-38 Jeune",
          "47-113 Senior",
          "0-38 Jeune",
          "39-42 Adulte",
          "47-113 Senior",
          "47-113 Senior",
          "0-38 Jeune",
          "39-42 Adulte",
          "47-113 Senior",
          "47-113 Senior",
          "47-113 Senior",
          "47-113 Senior",
          "0-38 Jeune",
          "47-113 Senior",
          "47-113 Senior",
          "47-113 Senior",
          "0-38 Jeune",
          "0-38 Jeune",
          "47-113 Senior",
          "47-113 Senior",
          "47-113 Senior",
          "47-113 Senior",
          "47-113 Senior",
          "47-113 Senior",
          "47-113 Senior",
          "47-113 Senior",
          "47-113 Senior",
          "39-42 Adulte",
          "47-113 Senior",
          "43-46 À point",
          "47-113 Senior",
          "47-113 Senior",
          "0-38 Jeune",
          "47-113 Senior",
          "47-113 Senior",
          "47-113 Senior",
          "43-46 À point",
          "43-46 À point",
          "47-113 Senior",
          "47-113 Senior",
          "47-113 Senior",
          "0-38 Jeune",
          "0-38 Jeune",
          "47-113 Senior",
          "47-113 Senior",
          "47-113 Senior",
          "47-113 Senior",
          "47-113 Senior",
          "47-113 Senior",
          "47-113 Senior",
          "47-113 Senior",
          "0-38 Jeune",
          "47-113 Senior",
          "47-113 Senior",
          "47-113 Senior",
          "39-42 Adulte",
          "47-113 Senior",
          "43-46 À point",
          "47-113 Senior",
          "0-38 Jeune",
          "47-113 Senior",
          "47-113 Senior",
          "0-38 Jeune",
          "47-113 Senior",
          "0-38 Jeune",
          "47-113 Senior",
          "47-113 Senior",
          "47-113 Senior",
          "47-113 Senior",
          "0-38 Jeune",
          "0-38 Jeune",
          "0-38 Jeune",
          "0-38 Jeune",
          "47-113 Senior",
          "0-38 Jeune",
          "47-113 Senior",
          "47-113 Senior",
          "47-113 Senior",
          "43-46 À point",
          "47-113 Senior",
          "47-113 Senior",
          "39-42 Adulte",
          "47-113 Senior",
          "47-113 Senior",
          "47-113 Senior",
          "43-46 À point",
          "47-113 Senior",
          "39-42 Adulte",
          "47-113 Senior",
          "0-38 Jeune",
          "47-113 Senior",
          "47-113 Senior",
          "0-38 Jeune",
          "47-113 Senior",
          "47-113 Senior",
          "47-113 Senior",
          "47-113 Senior",
          "47-113 Senior",
          "0-38 Jeune",
          "47-113 Senior",
          "47-113 Senior",
          "47-113 Senior",
          "47-113 Senior",
          "47-113 Senior",
          "47-113 Senior",
          "0-38 Jeune",
          "47-113 Senior",
          "0-38 Jeune",
          "47-113 Senior",
          "0-38 Jeune",
          "39-42 Adulte",
          "0-38 Jeune",
          "47-113 Senior",
          "47-113 Senior",
          "39-42 Adulte",
          "0-38 Jeune",
          "47-113 Senior",
          "47-113 Senior",
          "43-46 À point",
          "47-113 Senior",
          "47-113 Senior",
          "0-38 Jeune",
          "0-38 Jeune",
          "43-46 À point",
          "0-38 Jeune",
          "0-38 Jeune",
          "47-113 Senior",
          "0-38 Jeune",
          "47-113 Senior",
          "47-113 Senior",
          "47-113 Senior",
          "43-46 À point",
          "47-113 Senior",
          "47-113 Senior",
          "43-46 À point",
          "47-113 Senior",
          "43-46 À point",
          "47-113 Senior",
          "47-113 Senior",
          "43-46 À point",
          "47-113 Senior",
          "47-113 Senior",
          "47-113 Senior",
          "47-113 Senior",
          "39-42 Adulte",
          "0-38 Jeune",
          "47-113 Senior",
          "47-113 Senior",
          "0-38 Jeune",
          "47-113 Senior",
          "47-113 Senior",
          "47-113 Senior",
          "47-113 Senior",
          "47-113 Senior",
          "47-113 Senior",
          "47-113 Senior",
          "39-42 Adulte",
          "47-113 Senior",
          "47-113 Senior",
          "47-113 Senior",
          "47-113 Senior",
          "43-46 À point",
          "47-113 Senior",
          "47-113 Senior",
          "47-113 Senior",
          "47-113 Senior",
          "47-113 Senior",
          "47-113 Senior",
          "0-38 Jeune",
          "47-113 Senior",
          "43-46 À point",
          "47-113 Senior",
          "43-46 À point",
          "47-113 Senior",
          "39-42 Adulte",
          "0-38 Jeune",
          "47-113 Senior",
          "47-113 Senior",
          "0-38 Jeune",
          "47-113 Senior",
          "47-113 Senior",
          "0-38 Jeune",
          "0-38 Jeune",
          "39-42 Adulte",
          "0-38 Jeune"
         ],
         "xaxis": "x",
         "yaxis": "y"
        }
       ],
       "layout": {
        "barmode": "group",
        "legend": {
         "title": {
          "text": "gender"
         },
         "tracegroupgap": 0
        },
        "template": {
         "data": {
          "bar": [
           {
            "error_x": {
             "color": "#2a3f5f"
            },
            "error_y": {
             "color": "#2a3f5f"
            },
            "marker": {
             "line": {
              "color": "#E5ECF6",
              "width": 0.5
             },
             "pattern": {
              "fillmode": "overlay",
              "size": 10,
              "solidity": 0.2
             }
            },
            "type": "bar"
           }
          ],
          "barpolar": [
           {
            "marker": {
             "line": {
              "color": "#E5ECF6",
              "width": 0.5
             },
             "pattern": {
              "fillmode": "overlay",
              "size": 10,
              "solidity": 0.2
             }
            },
            "type": "barpolar"
           }
          ],
          "carpet": [
           {
            "aaxis": {
             "endlinecolor": "#2a3f5f",
             "gridcolor": "white",
             "linecolor": "white",
             "minorgridcolor": "white",
             "startlinecolor": "#2a3f5f"
            },
            "baxis": {
             "endlinecolor": "#2a3f5f",
             "gridcolor": "white",
             "linecolor": "white",
             "minorgridcolor": "white",
             "startlinecolor": "#2a3f5f"
            },
            "type": "carpet"
           }
          ],
          "choropleth": [
           {
            "colorbar": {
             "outlinewidth": 0,
             "ticks": ""
            },
            "type": "choropleth"
           }
          ],
          "contour": [
           {
            "colorbar": {
             "outlinewidth": 0,
             "ticks": ""
            },
            "colorscale": [
             [
              0,
              "#0d0887"
             ],
             [
              0.1111111111111111,
              "#46039f"
             ],
             [
              0.2222222222222222,
              "#7201a8"
             ],
             [
              0.3333333333333333,
              "#9c179e"
             ],
             [
              0.4444444444444444,
              "#bd3786"
             ],
             [
              0.5555555555555556,
              "#d8576b"
             ],
             [
              0.6666666666666666,
              "#ed7953"
             ],
             [
              0.7777777777777778,
              "#fb9f3a"
             ],
             [
              0.8888888888888888,
              "#fdca26"
             ],
             [
              1,
              "#f0f921"
             ]
            ],
            "type": "contour"
           }
          ],
          "contourcarpet": [
           {
            "colorbar": {
             "outlinewidth": 0,
             "ticks": ""
            },
            "type": "contourcarpet"
           }
          ],
          "heatmap": [
           {
            "colorbar": {
             "outlinewidth": 0,
             "ticks": ""
            },
            "colorscale": [
             [
              0,
              "#0d0887"
             ],
             [
              0.1111111111111111,
              "#46039f"
             ],
             [
              0.2222222222222222,
              "#7201a8"
             ],
             [
              0.3333333333333333,
              "#9c179e"
             ],
             [
              0.4444444444444444,
              "#bd3786"
             ],
             [
              0.5555555555555556,
              "#d8576b"
             ],
             [
              0.6666666666666666,
              "#ed7953"
             ],
             [
              0.7777777777777778,
              "#fb9f3a"
             ],
             [
              0.8888888888888888,
              "#fdca26"
             ],
             [
              1,
              "#f0f921"
             ]
            ],
            "type": "heatmap"
           }
          ],
          "heatmapgl": [
           {
            "colorbar": {
             "outlinewidth": 0,
             "ticks": ""
            },
            "colorscale": [
             [
              0,
              "#0d0887"
             ],
             [
              0.1111111111111111,
              "#46039f"
             ],
             [
              0.2222222222222222,
              "#7201a8"
             ],
             [
              0.3333333333333333,
              "#9c179e"
             ],
             [
              0.4444444444444444,
              "#bd3786"
             ],
             [
              0.5555555555555556,
              "#d8576b"
             ],
             [
              0.6666666666666666,
              "#ed7953"
             ],
             [
              0.7777777777777778,
              "#fb9f3a"
             ],
             [
              0.8888888888888888,
              "#fdca26"
             ],
             [
              1,
              "#f0f921"
             ]
            ],
            "type": "heatmapgl"
           }
          ],
          "histogram": [
           {
            "marker": {
             "pattern": {
              "fillmode": "overlay",
              "size": 10,
              "solidity": 0.2
             }
            },
            "type": "histogram"
           }
          ],
          "histogram2d": [
           {
            "colorbar": {
             "outlinewidth": 0,
             "ticks": ""
            },
            "colorscale": [
             [
              0,
              "#0d0887"
             ],
             [
              0.1111111111111111,
              "#46039f"
             ],
             [
              0.2222222222222222,
              "#7201a8"
             ],
             [
              0.3333333333333333,
              "#9c179e"
             ],
             [
              0.4444444444444444,
              "#bd3786"
             ],
             [
              0.5555555555555556,
              "#d8576b"
             ],
             [
              0.6666666666666666,
              "#ed7953"
             ],
             [
              0.7777777777777778,
              "#fb9f3a"
             ],
             [
              0.8888888888888888,
              "#fdca26"
             ],
             [
              1,
              "#f0f921"
             ]
            ],
            "type": "histogram2d"
           }
          ],
          "histogram2dcontour": [
           {
            "colorbar": {
             "outlinewidth": 0,
             "ticks": ""
            },
            "colorscale": [
             [
              0,
              "#0d0887"
             ],
             [
              0.1111111111111111,
              "#46039f"
             ],
             [
              0.2222222222222222,
              "#7201a8"
             ],
             [
              0.3333333333333333,
              "#9c179e"
             ],
             [
              0.4444444444444444,
              "#bd3786"
             ],
             [
              0.5555555555555556,
              "#d8576b"
             ],
             [
              0.6666666666666666,
              "#ed7953"
             ],
             [
              0.7777777777777778,
              "#fb9f3a"
             ],
             [
              0.8888888888888888,
              "#fdca26"
             ],
             [
              1,
              "#f0f921"
             ]
            ],
            "type": "histogram2dcontour"
           }
          ],
          "mesh3d": [
           {
            "colorbar": {
             "outlinewidth": 0,
             "ticks": ""
            },
            "type": "mesh3d"
           }
          ],
          "parcoords": [
           {
            "line": {
             "colorbar": {
              "outlinewidth": 0,
              "ticks": ""
             }
            },
            "type": "parcoords"
           }
          ],
          "pie": [
           {
            "automargin": true,
            "type": "pie"
           }
          ],
          "scatter": [
           {
            "fillpattern": {
             "fillmode": "overlay",
             "size": 10,
             "solidity": 0.2
            },
            "type": "scatter"
           }
          ],
          "scatter3d": [
           {
            "line": {
             "colorbar": {
              "outlinewidth": 0,
              "ticks": ""
             }
            },
            "marker": {
             "colorbar": {
              "outlinewidth": 0,
              "ticks": ""
             }
            },
            "type": "scatter3d"
           }
          ],
          "scattercarpet": [
           {
            "marker": {
             "colorbar": {
              "outlinewidth": 0,
              "ticks": ""
             }
            },
            "type": "scattercarpet"
           }
          ],
          "scattergeo": [
           {
            "marker": {
             "colorbar": {
              "outlinewidth": 0,
              "ticks": ""
             }
            },
            "type": "scattergeo"
           }
          ],
          "scattergl": [
           {
            "marker": {
             "colorbar": {
              "outlinewidth": 0,
              "ticks": ""
             }
            },
            "type": "scattergl"
           }
          ],
          "scattermapbox": [
           {
            "marker": {
             "colorbar": {
              "outlinewidth": 0,
              "ticks": ""
             }
            },
            "type": "scattermapbox"
           }
          ],
          "scatterpolar": [
           {
            "marker": {
             "colorbar": {
              "outlinewidth": 0,
              "ticks": ""
             }
            },
            "type": "scatterpolar"
           }
          ],
          "scatterpolargl": [
           {
            "marker": {
             "colorbar": {
              "outlinewidth": 0,
              "ticks": ""
             }
            },
            "type": "scatterpolargl"
           }
          ],
          "scatterternary": [
           {
            "marker": {
             "colorbar": {
              "outlinewidth": 0,
              "ticks": ""
             }
            },
            "type": "scatterternary"
           }
          ],
          "surface": [
           {
            "colorbar": {
             "outlinewidth": 0,
             "ticks": ""
            },
            "colorscale": [
             [
              0,
              "#0d0887"
             ],
             [
              0.1111111111111111,
              "#46039f"
             ],
             [
              0.2222222222222222,
              "#7201a8"
             ],
             [
              0.3333333333333333,
              "#9c179e"
             ],
             [
              0.4444444444444444,
              "#bd3786"
             ],
             [
              0.5555555555555556,
              "#d8576b"
             ],
             [
              0.6666666666666666,
              "#ed7953"
             ],
             [
              0.7777777777777778,
              "#fb9f3a"
             ],
             [
              0.8888888888888888,
              "#fdca26"
             ],
             [
              1,
              "#f0f921"
             ]
            ],
            "type": "surface"
           }
          ],
          "table": [
           {
            "cells": {
             "fill": {
              "color": "#EBF0F8"
             },
             "line": {
              "color": "white"
             }
            },
            "header": {
             "fill": {
              "color": "#C8D4E3"
             },
             "line": {
              "color": "white"
             }
            },
            "type": "table"
           }
          ]
         },
         "layout": {
          "annotationdefaults": {
           "arrowcolor": "#2a3f5f",
           "arrowhead": 0,
           "arrowwidth": 1
          },
          "autotypenumbers": "strict",
          "coloraxis": {
           "colorbar": {
            "outlinewidth": 0,
            "ticks": ""
           }
          },
          "colorscale": {
           "diverging": [
            [
             0,
             "#8e0152"
            ],
            [
             0.1,
             "#c51b7d"
            ],
            [
             0.2,
             "#de77ae"
            ],
            [
             0.3,
             "#f1b6da"
            ],
            [
             0.4,
             "#fde0ef"
            ],
            [
             0.5,
             "#f7f7f7"
            ],
            [
             0.6,
             "#e6f5d0"
            ],
            [
             0.7,
             "#b8e186"
            ],
            [
             0.8,
             "#7fbc41"
            ],
            [
             0.9,
             "#4d9221"
            ],
            [
             1,
             "#276419"
            ]
           ],
           "sequential": [
            [
             0,
             "#0d0887"
            ],
            [
             0.1111111111111111,
             "#46039f"
            ],
            [
             0.2222222222222222,
             "#7201a8"
            ],
            [
             0.3333333333333333,
             "#9c179e"
            ],
            [
             0.4444444444444444,
             "#bd3786"
            ],
            [
             0.5555555555555556,
             "#d8576b"
            ],
            [
             0.6666666666666666,
             "#ed7953"
            ],
            [
             0.7777777777777778,
             "#fb9f3a"
            ],
            [
             0.8888888888888888,
             "#fdca26"
            ],
            [
             1,
             "#f0f921"
            ]
           ],
           "sequentialminus": [
            [
             0,
             "#0d0887"
            ],
            [
             0.1111111111111111,
             "#46039f"
            ],
            [
             0.2222222222222222,
             "#7201a8"
            ],
            [
             0.3333333333333333,
             "#9c179e"
            ],
            [
             0.4444444444444444,
             "#bd3786"
            ],
            [
             0.5555555555555556,
             "#d8576b"
            ],
            [
             0.6666666666666666,
             "#ed7953"
            ],
            [
             0.7777777777777778,
             "#fb9f3a"
            ],
            [
             0.8888888888888888,
             "#fdca26"
            ],
            [
             1,
             "#f0f921"
            ]
           ]
          },
          "colorway": [
           "#636efa",
           "#EF553B",
           "#00cc96",
           "#ab63fa",
           "#FFA15A",
           "#19d3f3",
           "#FF6692",
           "#B6E880",
           "#FF97FF",
           "#FECB52"
          ],
          "font": {
           "color": "#2a3f5f"
          },
          "geo": {
           "bgcolor": "white",
           "lakecolor": "white",
           "landcolor": "#E5ECF6",
           "showlakes": true,
           "showland": true,
           "subunitcolor": "white"
          },
          "hoverlabel": {
           "align": "left"
          },
          "hovermode": "closest",
          "mapbox": {
           "style": "light"
          },
          "paper_bgcolor": "white",
          "plot_bgcolor": "#E5ECF6",
          "polar": {
           "angularaxis": {
            "gridcolor": "white",
            "linecolor": "white",
            "ticks": ""
           },
           "bgcolor": "#E5ECF6",
           "radialaxis": {
            "gridcolor": "white",
            "linecolor": "white",
            "ticks": ""
           }
          },
          "scene": {
           "xaxis": {
            "backgroundcolor": "#E5ECF6",
            "gridcolor": "white",
            "gridwidth": 2,
            "linecolor": "white",
            "showbackground": true,
            "ticks": "",
            "zerolinecolor": "white"
           },
           "yaxis": {
            "backgroundcolor": "#E5ECF6",
            "gridcolor": "white",
            "gridwidth": 2,
            "linecolor": "white",
            "showbackground": true,
            "ticks": "",
            "zerolinecolor": "white"
           },
           "zaxis": {
            "backgroundcolor": "#E5ECF6",
            "gridcolor": "white",
            "gridwidth": 2,
            "linecolor": "white",
            "showbackground": true,
            "ticks": "",
            "zerolinecolor": "white"
           }
          },
          "shapedefaults": {
           "line": {
            "color": "#2a3f5f"
           }
          },
          "ternary": {
           "aaxis": {
            "gridcolor": "white",
            "linecolor": "white",
            "ticks": ""
           },
           "baxis": {
            "gridcolor": "white",
            "linecolor": "white",
            "ticks": ""
           },
           "bgcolor": "#E5ECF6",
           "caxis": {
            "gridcolor": "white",
            "linecolor": "white",
            "ticks": ""
           }
          },
          "title": {
           "x": 0.05
          },
          "xaxis": {
           "automargin": true,
           "gridcolor": "white",
           "linecolor": "white",
           "ticks": "",
           "title": {
            "standoff": 15
           },
           "zerolinecolor": "white",
           "zerolinewidth": 2
          },
          "yaxis": {
           "automargin": true,
           "gridcolor": "white",
           "linecolor": "white",
           "ticks": "",
           "title": {
            "standoff": 15
           },
           "zerolinecolor": "white",
           "zerolinewidth": 2
          }
         }
        },
        "title": {
         "text": "Age category distribution"
        },
        "xaxis": {
         "anchor": "y",
         "categoryarray": [
          "0-38 Jeune",
          "39-42 Adulte",
          "43-46 À point",
          "47-113 Senior"
         ],
         "categoryorder": "array",
         "domain": [
          0,
          1
         ],
         "title": {
          "text": "Age category"
         }
        },
        "yaxis": {
         "anchor": "x",
         "domain": [
          0,
          1
         ],
         "title": {
          "text": "count"
         }
        }
       }
      }
     },
     "metadata": {},
     "output_type": "display_data"
    }
   ],
   "source": [
    "import plotly.express as px\n",
    "\n",
    "#  plot the age category distribution ordered by age with plotly\n",
    "fig = px.histogram(df,\n",
    "                    x='age_category',\n",
    "                    color=\"gender\",\n",
    "                    title='Age category distribution',\n",
    "                    labels={'age_category': 'Age category','count': 'Number of persons'},\n",
    "                    barmode='group',\n",
    "                    category_orders={'age_category': ['0-38 Jeune', '39-42 Adulte', '43-46 À point', '47-113 Senior']}\n",
    "                    )\n",
    "fig.show()"
   ]
  }
 ],
 "metadata": {
  "kernelspec": {
   "display_name": "Python 3",
   "language": "python",
   "name": "python3"
  },
  "language_info": {
   "codemirror_mode": {
    "name": "ipython",
    "version": 3
   },
   "file_extension": ".py",
   "mimetype": "text/x-python",
   "name": "python",
   "nbconvert_exporter": "python",
   "pygments_lexer": "ipython3",
   "version": "3.11.5"
  }
 },
 "nbformat": 4,
 "nbformat_minor": 2
}
