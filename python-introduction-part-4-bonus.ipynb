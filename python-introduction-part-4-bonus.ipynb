{
 "cells": [
  {
   "cell_type": "markdown",
   "metadata": {},
   "source": [
    "# BONUS 🎁 Anonymisation des microdonnées"
   ]
  },
  {
   "cell_type": "code",
   "execution_count": null,
   "metadata": {},
   "outputs": [],
   "source": [
    "!pip install sqlite3"
   ]
  },
  {
   "cell_type": "code",
   "execution_count": null,
   "metadata": {},
   "outputs": [],
   "source": [
    "import pandas as pd\n",
    "import sqlite3\n",
    "\n",
    "con = sqlite3.connect('./datasets/persons.db')\n",
    "\n",
    "df = pd.read_sql('SELECT * FROM persons LEFT JOIN haircuts ON persons.national_number = haircuts.national_number', con)\n",
    "df"
   ]
  },
  {
   "cell_type": "code",
   "execution_count": null,
   "metadata": {},
   "outputs": [],
   "source": [
    "# count the number of persons by gender and haircuts\n",
    "pivot_table = df.groupby(['haircut', 'gender']).size().reset_index(name='count')\n",
    "pivot_table.sort_values(by='count', ascending=True, ignore_index=True)"
   ]
  },
  {
   "cell_type": "markdown",
   "metadata": {},
   "source": [
    "![image](./anonymisation.drawio.png)"
   ]
  },
  {
   "cell_type": "code",
   "execution_count": null,
   "metadata": {},
   "outputs": [],
   "source": [
    "# ------------------\n",
    "# anonymisation functions\n",
    "# ------------------\n",
    "\n",
    "def check_if_need_to_be_anonymised(df, nMax):\n",
    "    if df['count'].min() < nMax:\n",
    "        return True\n",
    "    else:\n",
    "        return False\n",
    "\n",
    "def get_similarity_score(df):\n",
    "    df = df.sort_values(by=['count'], ascending=True)\n",
    "\n",
    "    first_line = df.iloc[0]\n",
    "    \n",
    "    # columns except count and score\n",
    "    columns_except_count = df.columns.drop(['count'])\n",
    "    if 'score' in columns_except_count:\n",
    "        columns_except_count = columns_except_count.drop(['score'])\n",
    "\n",
    "    for index, row in df.iterrows():\n",
    "        score = 0\n",
    "        \n",
    "        for column in columns_except_count:\n",
    "            if row[column] == first_line[column]:\n",
    "                score += 1\n",
    "\n",
    "        score = score / len(columns_except_count)\n",
    "\n",
    "        # add score to df\n",
    "        df.loc[index, 'score'] = score\n",
    "\n",
    "    df = df.sort_values(by=['score', 'count'], ascending=[False, True])\n",
    "    df = df.reset_index(drop=True)\n",
    "\n",
    "    return df\n",
    "\n",
    "def combine_similar_rows(df, count_column='count'):\n",
    "\n",
    "    # combine each features of the two rows\n",
    "    for column in df.columns:\n",
    "        # addition du count\n",
    "        if column == count_column:\n",
    "            df.loc[0, column] = df.iloc[0][column] + df.iloc[1][column]\n",
    "        else:\n",
    "            # ATTENTION, on considère ici que les attributs de type string\n",
    "            # check if the two rows have the same value\n",
    "            if df.iloc[0][column] != df.iloc[1][column]:\n",
    "                new_value = str(df.iloc[0][column]) + \" + \" + str(df.iloc[1][column])\n",
    "                \n",
    "                # split new_value with \" + \", order and remove duplicates\n",
    "                new_value = sorted(set(new_value.split(\" + \")))\n",
    "                new_value = \" + \".join(new_value)\n",
    "\n",
    "                df.loc[0, column] = new_value \n",
    "\n",
    "    df = df.drop(columns=['score'])\n",
    "\n",
    "    # drop iloc[1] row\n",
    "    df = df.drop(df.index[1])\n",
    "\n",
    "    df = df.sort_values(by=['count'], ascending=True)\n",
    "    df = df.reset_index(drop=True)\n",
    "\n",
    "    return df"
   ]
  },
  {
   "cell_type": "code",
   "execution_count": null,
   "metadata": {},
   "outputs": [],
   "source": [
    "def anonymise_microdata(df, nMax):\n",
    "    interation = 0\n",
    "    while check_if_need_to_be_anonymised(df, nMax) == True:\n",
    "        df_with_score = get_similarity_score(df)\n",
    "        df = combine_similar_rows(df_with_score)\n",
    "        print(f'Iteration {interation}')\n",
    "        interation += 1\n",
    "    \n",
    "    return df"
   ]
  },
  {
   "cell_type": "code",
   "execution_count": null,
   "metadata": {},
   "outputs": [],
   "source": [
    "df_anon = anonymise_microdata(pivot_table, 120)\n",
    "df_anon"
   ]
  }
 ],
 "metadata": {
  "kernelspec": {
   "display_name": "Python 3",
   "language": "python",
   "name": "python3"
  },
  "language_info": {
   "codemirror_mode": {
    "name": "ipython",
    "version": 3
   },
   "file_extension": ".py",
   "mimetype": "text/x-python",
   "name": "python",
   "nbconvert_exporter": "python",
   "pygments_lexer": "ipython3",
   "version": "3.11.5"
  }
 },
 "nbformat": 4,
 "nbformat_minor": 2
}
