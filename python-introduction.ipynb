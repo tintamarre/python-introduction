{
 "cells": [
  {
   "cell_type": "markdown",
   "metadata": {},
   "source": [
    "# Introduction à Python"
   ]
  },
  {
   "cell_type": "markdown",
   "metadata": {},
   "source": [
    "## Variables et Types de Données\n",
    "\n",
    "Déclarer des variables et comprendre les types de données de base."
   ]
  },
  {
   "cell_type": "code",
   "execution_count": 9,
   "metadata": {},
   "outputs": [],
   "source": [
    "# Exemple de variables\n",
    "nom = \"Martin\"\n",
    "age = 42\n",
    "taille = 1.85\n",
    "nombre_enfants = 4 - 1\n",
    "est_marié = False"
   ]
  },
  {
   "cell_type": "code",
   "execution_count": 6,
   "metadata": {},
   "outputs": [
    {
     "name": "stdout",
     "output_type": "stream",
     "text": [
      "Nom: Martin\n",
      "Age: 42\n",
      "Taille: 1.85\n",
      "Est marié: True\n",
      "Nombre d'enfants: 3\n"
     ]
    }
   ],
   "source": [
    "# Affichage des valeurs\n",
    "print(\"Nom:\", nom)\n",
    "print(\"Age:\", age)\n",
    "print(\"Taille:\", taille)\n",
    "print(\"Est marié:\", est_marié)\n",
    "print(\"Nombre d'enfants:\", nombre_enfants)"
   ]
  },
  {
   "cell_type": "code",
   "execution_count": 7,
   "metadata": {},
   "outputs": [
    {
     "name": "stdout",
     "output_type": "stream",
     "text": [
      "Martin a 42 ans, mesure 1.85 m, est marié: True et a 3 enfants.\n"
     ]
    }
   ],
   "source": [
    "\n",
    "print(f\"{nom} a {age} ans, mesure {taille} m, est marié: {est_marié} et a {nombre_enfants} enfants.\")"
   ]
  },
  {
   "cell_type": "code",
   "execution_count": 4,
   "metadata": {},
   "outputs": [],
   "source": [
    "def isMarried(married):\n",
    "    if married:\n",
    "        return \"est marié\"\n",
    "    else:\n",
    "        return \"n'est pas marié\""
   ]
  },
  {
   "cell_type": "code",
   "execution_count": 5,
   "metadata": {},
   "outputs": [
    {
     "name": "stdout",
     "output_type": "stream",
     "text": [
      "Martin a 42 ans, mesure 1.85 m, est marié et a 3 enfants.\n"
     ]
    }
   ],
   "source": [
    "print(f\"{nom} a {age} ans, mesure {taille} m, {isMarried(est_marié)} et a {nombre_enfants} enfants.\")"
   ]
  },
  {
   "cell_type": "markdown",
   "metadata": {},
   "source": [
    "## Opérations de Base\n",
    "Effectuer des opérations arithmétiques et logiques."
   ]
  },
  {
   "cell_type": "code",
   "execution_count": 10,
   "metadata": {},
   "outputs": [
    {
     "name": "stdout",
     "output_type": "stream",
     "text": [
      "Addition: 15\n",
      "Soustraction: 5\n",
      "Multiplication: 50\n",
      "Division: 2.0\n",
      "ET logique: False\n",
      "OU logique: True\n",
      "NON logique: False\n"
     ]
    }
   ],
   "source": [
    "# Opérations arithmétiques\n",
    "a = 10\n",
    "b = 5\n",
    "addition = a + b\n",
    "soustraction = a - b\n",
    "multiplication = a * b\n",
    "division = a / b\n",
    "\n",
    "# Opérations logiques\n",
    "vrai = True\n",
    "faux = False\n",
    "et_logique = vrai and faux\n",
    "ou_logique = vrai or faux\n",
    "non_logique = not vrai\n",
    "\n",
    "print(\"Addition:\", addition)\n",
    "print(\"Soustraction:\", soustraction)\n",
    "print(\"Multiplication:\", multiplication)\n",
    "print(\"Division:\", division)\n",
    "print(\"ET logique:\", et_logique)\n",
    "print(\"OU logique:\", ou_logique)\n",
    "print(\"NON logique:\", non_logique)\n"
   ]
  },
  {
   "cell_type": "markdown",
   "metadata": {},
   "source": [
    "## Structures de Contrôle\n",
    "Utiliser des instructions conditionnelles et des boucles."
   ]
  },
  {
   "cell_type": "code",
   "execution_count": null,
   "metadata": {},
   "outputs": [],
   "source": []
  }
 ],
 "metadata": {
  "kernelspec": {
   "display_name": "Python 3",
   "language": "python",
   "name": "python3"
  },
  "language_info": {
   "codemirror_mode": {
    "name": "ipython",
    "version": 3
   },
   "file_extension": ".py",
   "mimetype": "text/x-python",
   "name": "python",
   "nbconvert_exporter": "python",
   "pygments_lexer": "ipython3",
   "version": "3.11.5"
  }
 },
 "nbformat": 4,
 "nbformat_minor": 2
}
