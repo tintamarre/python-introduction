{
 "cells": [
  {
   "cell_type": "markdown",
   "metadata": {},
   "source": [
    "# Introduction à Python"
   ]
  },
  {
   "cell_type": "markdown",
   "metadata": {},
   "source": [
    "## Variables et Types de Données\n",
    "\n",
    "Déclarer des variables et comprendre les types de données de base."
   ]
  },
  {
   "cell_type": "code",
   "execution_count": null,
   "metadata": {},
   "outputs": [],
   "source": [
    "# Exemple de variables\n",
    "nom = \"Martin\"\n",
    "age = 42\n",
    "taille = 1.85\n",
    "nombre_enfants = 4 - 1\n",
    "est_marié = False"
   ]
  },
  {
   "cell_type": "code",
   "execution_count": null,
   "metadata": {},
   "outputs": [],
   "source": [
    "# Affichage des valeurs\n",
    "print(\"Nom:\", nom)\n",
    "print(\"Age:\", age)\n",
    "print(\"Taille:\", taille)\n",
    "print(\"Est marié:\", est_marié)\n",
    "print(\"Nombre d'enfants:\", nombre_enfants)"
   ]
  },
  {
   "cell_type": "code",
   "execution_count": null,
   "metadata": {},
   "outputs": [],
   "source": [
    "\n",
    "print(f\"{nom} a {age} ans, mesure {taille} m, est marié: {est_marié} et a {nombre_enfants} enfants.\")"
   ]
  },
  {
   "cell_type": "code",
   "execution_count": null,
   "metadata": {},
   "outputs": [],
   "source": [
    "def isMarried(married):\n",
    "    if married:\n",
    "        return \"est marié\"\n",
    "    else:\n",
    "        return \"n'est pas marié\""
   ]
  },
  {
   "cell_type": "code",
   "execution_count": null,
   "metadata": {},
   "outputs": [],
   "source": [
    "print(f\"{nom} a {age} ans, mesure {taille} m, {isMarried(est_marié)} et a {nombre_enfants} enfants.\")"
   ]
  },
  {
   "cell_type": "markdown",
   "metadata": {},
   "source": [
    "## Opérations de Base\n",
    "Effectuer des opérations arithmétiques et logiques."
   ]
  },
  {
   "cell_type": "code",
   "execution_count": null,
   "metadata": {},
   "outputs": [],
   "source": [
    "# Opérations arithmétiques\n",
    "a = 40\n",
    "b = 2\n",
    "c = 3.33\n",
    "addition = a + b\n",
    "soustraction = a - b\n",
    "multiplication = a * b\n",
    "division = a / b\n",
    "division_entiere = a // b\n",
    "division_modulo = a % c\n",
    "division_float = a / c\n",
    "\n",
    "print(\"Addition:\", addition)\n",
    "print(\"Soustraction:\", soustraction)\n",
    "print(\"Multiplication:\", multiplication)\n",
    "print(\"Division:\", division)\n",
    "print(\"Division entière:\", division_entiere)\n",
    "print(\"Modulo:\", division_modulo)\n",
    "print(\"Division float:\", division_float)"
   ]
  },
  {
   "cell_type": "code",
   "execution_count": null,
   "metadata": {},
   "outputs": [],
   "source": [
    "# Opérations logiques\n",
    "vrai = True\n",
    "faux = False\n",
    "et_logique = vrai and faux\n",
    "ou_logique = vrai or faux\n",
    "non_logique = not vrai\n",
    "\n",
    "print(\"`ET` logique:\", et_logique)\n",
    "print(\"`OU` logique:\", ou_logique)\n",
    "print(\"`NON` logique:\", non_logique)"
   ]
  },
  {
   "cell_type": "markdown",
   "metadata": {},
   "source": [
    "## Fonctions intégrées\n",
    "Les fonctions intégrées de Python sont des fonctions qui sont toujours disponibles pour être utilisées. Elles sont incluses dans Python et ne nécessitent pas d'importation."
   ]
  },
  {
   "cell_type": "code",
   "execution_count": null,
   "metadata": {},
   "outputs": [],
   "source": [
    "round(division_float, 2)"
   ]
  },
  {
   "cell_type": "code",
   "execution_count": null,
   "metadata": {},
   "outputs": [],
   "source": [
    "round(4.5)"
   ]
  },
  {
   "cell_type": "code",
   "execution_count": null,
   "metadata": {},
   "outputs": [],
   "source": [
    "round(5.5)"
   ]
  },
  {
   "cell_type": "markdown",
   "metadata": {},
   "source": [
    "## Structures de Contrôle\n",
    "Utiliser des instructions conditionnelles et des boucles."
   ]
  },
  {
   "cell_type": "code",
   "execution_count": 34,
   "metadata": {},
   "outputs": [
    {
     "name": "stdout",
     "output_type": "stream",
     "text": [
      "Vous êtes majeur.\n",
      "Itération 0\n",
      "Itération 1\n",
      "Itération 2\n",
      "Itération 3\n",
      "Itération 4\n",
      "Compteur: 0\n",
      "Compteur: 1\n",
      "Compteur: 2\n"
     ]
    }
   ],
   "source": [
    "# Instructions conditionnelles\n",
    "if age >= 18:\n",
    "    print(\"Vous êtes majeur.\")\n",
    "else:\n",
    "    print(\"Vous êtes mineur.\")\n",
    "\n",
    "# Boucle for\n",
    "for i in range(5):\n",
    "    print(\"Itération\", i)\n",
    "\n",
    "# Boucle while\n",
    "compteur = 0\n",
    "while compteur < 3:\n",
    "    print(\"Compteur:\", compteur)\n",
    "    compteur += 1"
   ]
  },
  {
   "cell_type": "markdown",
   "metadata": {},
   "source": [
    "## Structures de Contrôle\n",
    "Utiliser des instructions conditionnelles et des boucles."
   ]
  }
 ],
 "metadata": {
  "kernelspec": {
   "display_name": "Python 3",
   "language": "python",
   "name": "python3"
  },
  "language_info": {
   "codemirror_mode": {
    "name": "ipython",
    "version": 3
   },
   "file_extension": ".py",
   "mimetype": "text/x-python",
   "name": "python",
   "nbconvert_exporter": "python",
   "pygments_lexer": "ipython3",
   "version": "3.11.5"
  }
 },
 "nbformat": 4,
 "nbformat_minor": 2
}
