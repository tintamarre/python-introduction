{
 "cells": [
  {
   "cell_type": "code",
   "execution_count": 11,
   "metadata": {},
   "outputs": [
    {
     "name": "stdout",
     "output_type": "stream",
     "text": [
      "Requirement already satisfied: Faker in /opt/homebrew/lib/python3.11/site-packages (18.4.0)\n",
      "Requirement already satisfied: python-dateutil>=2.4 in /Users/martin/Library/Python/3.11/lib/python/site-packages (from Faker) (2.8.2)\n",
      "Requirement already satisfied: six>=1.5 in /Users/martin/Library/Python/3.11/lib/python/site-packages (from python-dateutil>=2.4->Faker) (1.16.0)\n",
      "\u001b[33mDEPRECATION: jupyter-server 2.0.0 has a non-standard dependency specifier jupyter-core!=~5.0,>=4.12. pip 24.0 will enforce this behaviour change. A possible replacement is to upgrade to a newer version of jupyter-server or contact the author to suggest that they release a version with a conforming dependency specifiers. Discussion can be found at https://github.com/pypa/pip/issues/12063\u001b[0m\u001b[33m\n",
      "\u001b[0m\n",
      "\u001b[1m[\u001b[0m\u001b[34;49mnotice\u001b[0m\u001b[1;39;49m]\u001b[0m\u001b[39;49m A new release of pip is available: \u001b[0m\u001b[31;49m23.3.1\u001b[0m\u001b[39;49m -> \u001b[0m\u001b[32;49m24.0\u001b[0m\n",
      "\u001b[1m[\u001b[0m\u001b[34;49mnotice\u001b[0m\u001b[1;39;49m]\u001b[0m\u001b[39;49m To update, run: \u001b[0m\u001b[32;49mpython3.11 -m pip install --upgrade pip\u001b[0m\n",
      "Requirement already satisfied: python-slugify in /opt/homebrew/lib/python3.11/site-packages (7.0.0)\n",
      "Requirement already satisfied: text-unidecode>=1.3 in /opt/homebrew/lib/python3.11/site-packages (from python-slugify) (1.3)\n",
      "\u001b[33mDEPRECATION: jupyter-server 2.0.0 has a non-standard dependency specifier jupyter-core!=~5.0,>=4.12. pip 24.0 will enforce this behaviour change. A possible replacement is to upgrade to a newer version of jupyter-server or contact the author to suggest that they release a version with a conforming dependency specifiers. Discussion can be found at https://github.com/pypa/pip/issues/12063\u001b[0m\u001b[33m\n",
      "\u001b[0m\n",
      "\u001b[1m[\u001b[0m\u001b[34;49mnotice\u001b[0m\u001b[1;39;49m]\u001b[0m\u001b[39;49m A new release of pip is available: \u001b[0m\u001b[31;49m23.3.1\u001b[0m\u001b[39;49m -> \u001b[0m\u001b[32;49m24.0\u001b[0m\n",
      "\u001b[1m[\u001b[0m\u001b[34;49mnotice\u001b[0m\u001b[1;39;49m]\u001b[0m\u001b[39;49m To update, run: \u001b[0m\u001b[32;49mpython3.11 -m pip install --upgrade pip\u001b[0m\n"
     ]
    }
   ],
   "source": [
    "!pip install Faker\n",
    "!pip install python-slugify"
   ]
  },
  {
   "cell_type": "code",
   "execution_count": 12,
   "metadata": {},
   "outputs": [],
   "source": [
    "import pandas as pd\n",
    "from faker import Faker\n",
    "import slugify\n",
    "\n",
    "# number of rows\n",
    "n = 1000\n",
    "\n",
    "fake = Faker('fr_FR')\n",
    "\n",
    "dest_path = './datasets/'\n",
    "person_file = dest_path + 'persons'\n",
    "\n",
    "df = pd.DataFrame(columns=['first_name', 'last_name', 'email', 'phone', 'national_number'])\n",
    "\n",
    "def generate_person():\n",
    "    return {\n",
    "        'first_name': fake.first_name(),\n",
    "        'last_name': fake.last_name(),\n",
    "        'email': fake.email().replace('example', slugify.slugify(fake.company())),\n",
    "        'phone': fake.phone_number().replace('+33', '+32'),\n",
    "        # national number = format YY.MM.DD-XXX.XX\n",
    "        'national_number': fake.date_of_birth(minimum_age=25, maximum_age=77).strftime('%y.%m.%d') + '-' + str(fake.random_number(digits=3)).zfill(3) + '.' + str(fake.random_number(digits=2)).zfill(2)\n",
    "    }\n",
    "\n",
    "for _ in range(n):\n",
    "    new_person = generate_person()\n",
    "   \n",
    "    temp_df = pd.DataFrame(new_person, index=[0])\n",
    "    df = pd.concat([df, temp_df], ignore_index=True)\n",
    "    \n",
    "df.to_excel(person_file + '.xlsx', index=False)\n",
    "df.to_csv(person_file + '.csv', index=False)\n",
    "df.to_html(person_file + '.html', index=False)\n",
    "df.to_parquet(person_file + '.parquet', index=False)\n",
    "\n",
    "#df.to_csv(person_file + '.csv.gz', index=False, compression='gzip')\n",
    "#df.to_excel(person_file + '.xlsx', index=False)\n",
    "#df.to_json(person_file + '.json', orient='records')"
   ]
  },
  {
   "cell_type": "code",
   "execution_count": 13,
   "metadata": {},
   "outputs": [],
   "source": [
    "import random\n",
    "\n",
    "# subset is a random percentage of the dataset\n",
    "subset_n = random.randint(n // 4, n)\n",
    "\n",
    "# random subset of national_number of the dataset\n",
    "random_persons = df.sample(subset_n)\n",
    "# only keep the national_number\n",
    "haircuts = ['Bob cut', 'Bouffant', 'Bowl cut', 'Butch cut', 'Mullet', 'mULLET', 'Hi-top fade', 'Undercut', 'Tonsure', 'Pixie cut', 'Pompadour', 'Layered hair', 'Big hair', 'Bun', 'Chignon', 'Chonmage', 'Devilock', 'Dreadlocks' , 'devilock' ]\n",
    "# add random haircut to the subset\n",
    "\n",
    "random_persons['haircut'] = [random.choice(haircuts) for _ in range(subset_n)]\n",
    "\n",
    "random_persons['white_hair_count'] = [random.randint(0, 500) for _ in range(subset_n)]\n",
    "\n",
    "# define array of one true and 9000 false\n",
    "true_or_false = [True] + [False] * random.randint(2, 9)\n",
    "\n",
    "# randomily append a k at the end of the white_hair_count\n",
    "random_persons['white_hair_count'] = random_persons['white_hair_count'].apply(lambda x: str(x) + 'k' if random.choice(true_or_false) else x)\n",
    "\n",
    "# 10% of white_hair_count will be None\n",
    "random_persons['white_hair_count'] = random_persons['white_hair_count'].apply(lambda x: None if random.choice(true_or_false) else x)\n",
    "\n",
    "# remove all non digits characters from the national_number\n",
    "random_persons['national_number'] = random_persons['national_number'].str.replace(r'\\D', '', regex=True)\n",
    "\n",
    "# only keep the national_number and haircut\n",
    "random_persons = random_persons[['national_number', 'haircut', 'white_hair_count']]\n",
    "\n",
    "# rename col national_number with NATIONAL_NUMBER_CAPS_LOVER\n",
    "random_persons = random_persons.rename(columns={'national_number': 'NATIONAL_NUMBER_CAPS_LOVER'})\n",
    "\n",
    "random_persons.to_csv(person_file + '_haircut.csv', index=False)"
   ]
  },
  {
   "cell_type": "code",
   "execution_count": 14,
   "metadata": {},
   "outputs": [
    {
     "data": {
      "text/plain": [
       "721"
      ]
     },
     "execution_count": 14,
     "metadata": {},
     "output_type": "execute_result"
    }
   ],
   "source": [
    "import sqlite3\n",
    "\n",
    "conn = sqlite3.connect(person_file + '.db')\n",
    "df.to_sql('persons', conn, index=False, if_exists='replace')\n",
    "random_persons.to_sql('haircuts', conn, index=False, if_exists='replace')"
   ]
  }
 ],
 "metadata": {
  "kernelspec": {
   "display_name": "Python 3",
   "language": "python",
   "name": "python3"
  },
  "language_info": {
   "codemirror_mode": {
    "name": "ipython",
    "version": 3
   },
   "file_extension": ".py",
   "mimetype": "text/x-python",
   "name": "python",
   "nbconvert_exporter": "python",
   "pygments_lexer": "ipython3",
   "version": "3.11.5"
  }
 },
 "nbformat": 4,
 "nbformat_minor": 2
}
