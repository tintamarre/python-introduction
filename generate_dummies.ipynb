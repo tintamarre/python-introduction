{
 "cells": [
  {
   "cell_type": "code",
   "execution_count": 1,
   "metadata": {},
   "outputs": [
    {
     "name": "stdout",
     "output_type": "stream",
     "text": [
      "Requirement already satisfied: Faker in /opt/homebrew/lib/python3.11/site-packages (18.4.0)\n",
      "Requirement already satisfied: python-dateutil>=2.4 in /Users/martin/Library/Python/3.11/lib/python/site-packages (from Faker) (2.8.2)\n",
      "Requirement already satisfied: six>=1.5 in /Users/martin/Library/Python/3.11/lib/python/site-packages (from python-dateutil>=2.4->Faker) (1.16.0)\n",
      "\u001b[33mDEPRECATION: jupyter-server 2.0.0 has a non-standard dependency specifier jupyter-core!=~5.0,>=4.12. pip 24.0 will enforce this behaviour change. A possible replacement is to upgrade to a newer version of jupyter-server or contact the author to suggest that they release a version with a conforming dependency specifiers. Discussion can be found at https://github.com/pypa/pip/issues/12063\u001b[0m\u001b[33m\n",
      "\u001b[0m\n",
      "\u001b[1m[\u001b[0m\u001b[34;49mnotice\u001b[0m\u001b[1;39;49m]\u001b[0m\u001b[39;49m A new release of pip is available: \u001b[0m\u001b[31;49m23.3.1\u001b[0m\u001b[39;49m -> \u001b[0m\u001b[32;49m24.0\u001b[0m\n",
      "\u001b[1m[\u001b[0m\u001b[34;49mnotice\u001b[0m\u001b[1;39;49m]\u001b[0m\u001b[39;49m To update, run: \u001b[0m\u001b[32;49mpython3.11 -m pip install --upgrade pip\u001b[0m\n"
     ]
    }
   ],
   "source": [
    "!pip install Faker\n",
    "!pip install python-slugify"
   ]
  },
  {
   "cell_type": "code",
   "execution_count": 7,
   "metadata": {},
   "outputs": [],
   "source": [
    "import pandas as pd\n",
    "from faker import Faker\n",
    "import slugify\n",
    "\n",
    "fake = Faker('fr_FR')\n",
    "\n",
    "dest_path = './datasets/'\n",
    "person_file = dest_path + 'persons'\n",
    "\n",
    "df = pd.DataFrame(columns=['first_name', 'last_name', 'email', 'phone', 'national_number'])\n",
    "\n",
    "for _ in range(42):\n",
    "    new_person = {\n",
    "        'first_name': fake.first_name(),\n",
    "        'last_name': fake.last_name(),\n",
    "        'email': fake.email().replace('example', slugify.slugify(fake.catch_phrase())),\n",
    "        'phone': fake.phone_number().replace('+33', '+32'),\n",
    "        # national number = format YY.MM.DD-XXX.XX\n",
    "        'national_number': fake.date_of_birth(minimum_age=25, maximum_age=77).strftime('%y.%m.%d') + '-' + str(fake.random_number(digits=3)).zfill(3) + '.' + str(fake.random_number(digits=2)).zfill(2)\n",
    "    }\n",
    "   \n",
    "    temp_df = pd.DataFrame(new_person, index=[0])\n",
    "    df = pd.concat([df, temp_df], ignore_index=True)\n",
    "    \n",
    "\n",
    "df.to_csv(person_file + '.csv', index=False)\n",
    "df.to_html(person_file + '.html', index=False)\n",
    "df.to_parquet(person_file + '.parquet', index=False)\n",
    "\n",
    "#df.to_csv(person_file + '.csv.gz', index=False, compression='gzip')\n",
    "#df.to_excel(person_file + '.xlsx', index=False)\n",
    "#df.to_json(person_file + '.json', orient='records')"
   ]
  }
 ],
 "metadata": {
  "kernelspec": {
   "display_name": "Python 3",
   "language": "python",
   "name": "python3"
  },
  "language_info": {
   "codemirror_mode": {
    "name": "ipython",
    "version": 3
   },
   "file_extension": ".py",
   "mimetype": "text/x-python",
   "name": "python",
   "nbconvert_exporter": "python",
   "pygments_lexer": "ipython3",
   "version": "3.11.5"
  }
 },
 "nbformat": 4,
 "nbformat_minor": 2
}
