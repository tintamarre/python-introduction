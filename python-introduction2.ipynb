{
 "cells": [
  {
   "cell_type": "markdown",
   "metadata": {},
   "source": [
    "# Introduction à Python"
   ]
  },
  {
   "cell_type": "markdown",
   "metadata": {},
   "source": [
    "## Variables et Types de Données\n",
    "\n",
    "Déclarer des variables et comprendre les types de données de base."
   ]
  },
  {
   "cell_type": "code",
   "execution_count": null,
   "metadata": {},
   "outputs": [
    {
     "name": "stdout",
     "output_type": "stream",
     "text": [
      "Nom: Martin\n",
      "Age: 42\n",
      "Taille: 1.9\n",
      "Est marié: True\n",
      "Nombre d'enfants: 3\n",
      "Martin a 42 ans, mesure 1.9m, est marié: True et a 3 enfants.\n"
     ]
    }
   ],
   "source": [
    "# Exemple de variables\n",
    "nom = \"Martin\"\n",
    "age = 42\n",
    "taille = 1.85\n",
    "nombre_enfants = 4 - 1\n",
    "est_marié = True\n"
   ]
  },
  {
   "cell_type": "code",
   "execution_count": null,
   "metadata": {},
   "outputs": [],
   "source": [
    "# Affichage des valeurs\n",
    "print(\"Nom:\", nom)\n",
    "print(\"Age:\", age)\n",
    "print(\"Taille:\", taille)\n",
    "print(\"Est marié:\", est_marié)\n",
    "print(\"Nombre d'enfants:\", nombre_enfants)\n",
    "\n",
    "print(f\"{nom} a {age} ans, mesure {taille}m, est marié: {est_marié} et a {nombre_enfants} enfants.\")"
   ]
  },
  {
   "cell_type": "markdown",
   "metadata": {},
   "source": [
    "## Opérations de Base\n",
    "Effectuer des opérations arithmétiques et logiques."
   ]
  },
  {
   "cell_type": "code",
   "execution_count": null,
   "metadata": {},
   "outputs": [],
   "source": [
    "# Opérations arithmétiques\n",
    "a = 10\n",
    "b = 5\n",
    "addition = a + b\n",
    "soustraction = a - b\n",
    "multiplication = a * b\n",
    "division = a / b\n",
    "\n",
    "# Opérations logiques\n",
    "vrai = True\n",
    "faux = False\n",
    "et_logique = vrai and faux\n",
    "ou_logique = vrai or faux\n",
    "non_logique = not vrai\n",
    "\n",
    "print(\"Addition:\", addition)\n",
    "print(\"Soustraction:\", soustraction)\n",
    "print(\"Multiplication:\", multiplication)\n",
    "print(\"Division:\", division)\n",
    "print(\"ET logique:\", et_logique)\n",
    "print(\"OU logique:\", ou_logique)\n",
    "print(\"NON logique:\", non_logique)\n"
   ]
  }
 ],
 "metadata": {
  "kernelspec": {
   "display_name": "Python 3",
   "language": "python",
   "name": "python3"
  },
  "language_info": {
   "codemirror_mode": {
    "name": "ipython",
    "version": 3
   },
   "file_extension": ".py",
   "mimetype": "text/x-python",
   "name": "python",
   "nbconvert_exporter": "python",
   "pygments_lexer": "ipython3",
   "version": "3.11.5"
  }
 },
 "nbformat": 4,
 "nbformat_minor": 2
}
