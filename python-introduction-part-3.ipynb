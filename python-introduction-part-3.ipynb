{
 "cells": [
  {
   "cell_type": "markdown",
   "metadata": {},
   "source": [
    "# Section 3: Sélection et jointure de données"
   ]
  },
  {
   "cell_type": "code",
   "execution_count": null,
   "metadata": {},
   "outputs": [],
   "source": [
    "import sqlite3"
   ]
  },
  {
   "cell_type": "code",
   "execution_count": null,
   "metadata": {},
   "outputs": [],
   "source": [
    "import pandas as pd\n",
    "\n",
    "df = pd.read_csv('./datasets/persons_cleaned.csv')\n",
    "df"
   ]
  },
  {
   "cell_type": "code",
   "execution_count": null,
   "metadata": {},
   "outputs": [],
   "source": [
    "haircuts = pd.read_csv('https://raw.githubusercontent.com/tintamarre/python-introduction/main/datasets/persons_haircut.csv')\n",
    "haircuts"
   ]
  },
  {
   "cell_type": "code",
   "execution_count": null,
   "metadata": {},
   "outputs": [],
   "source": [
    "# quick cleaning \n",
    "# haircuts = haircuts.dropna()\n",
    "\n",
    "# Replace mULLET by Mullet in ['haircut']\n",
    "haircuts['haircut'] = haircuts['haircut'].str.replace('mULLET', 'Mullet')\n",
    "\n",
    "# rename column NATIONAL_NUMBER_CAPS_LOVER to national_number\n",
    "haircuts = haircuts.rename(columns={'NATIONAL_NUMBER_CAPS_LOVER': 'national_number'})"
   ]
  },
  {
   "cell_type": "code",
   "execution_count": null,
   "metadata": {},
   "outputs": [],
   "source": [
    "df = df.merge(haircuts, on='national_number', how='left')"
   ]
  },
  {
   "cell_type": "code",
   "execution_count": null,
   "metadata": {},
   "outputs": [],
   "source": [
    "# remove non numeric values from the column national_number\n",
    "df['national_number'] = df['national_number'].str.replace(r'\\D', '', regex=True)\n",
    "\n",
    "df = df.merge(haircuts, on='national_number', how='left')\n"
   ]
  },
  {
   "cell_type": "code",
   "execution_count": null,
   "metadata": {},
   "outputs": [],
   "source": [
    "haircuts.dtypes"
   ]
  },
  {
   "cell_type": "code",
   "execution_count": null,
   "metadata": {},
   "outputs": [],
   "source": [
    "#df['national_number'] = df['national_number'].str.replace(r'\\D', '', regex=True)\n",
    "\n",
    "# https://ihateregex.io/\n",
    "\n",
    "df['national_number'] = df['national_number'].astype(int)\n",
    "\n",
    "df_merge = df.merge(haircuts, on='national_number', how='left')\n",
    "df_merge"
   ]
  },
  {
   "cell_type": "markdown",
   "metadata": {},
   "source": [
    "## SQL"
   ]
  },
  {
   "cell_type": "code",
   "execution_count": null,
   "metadata": {},
   "outputs": [],
   "source": [
    "# https://www.sqlite.org/\n",
    "con = sqlite3.connect('./datasets/persons.db')\n",
    "\n",
    "df.to_sql('persons', con, if_exists='replace', index=False)\n",
    "haircuts.to_sql('haircuts', con, if_exists='replace', index=False)"
   ]
  },
  {
   "cell_type": "code",
   "execution_count": null,
   "metadata": {},
   "outputs": [],
   "source": [
    "# drop first_name, last_name, national_number\n",
    "df_merge = df_merge.drop(columns=['national_number'])"
   ]
  },
  {
   "cell_type": "code",
   "execution_count": null,
   "metadata": {},
   "outputs": [],
   "source": [
    "df_merge.sample(10)"
   ]
  },
  {
   "cell_type": "code",
   "execution_count": null,
   "metadata": {},
   "outputs": [],
   "source": [
    "# haircuts nan -> 'Bald'\n",
    "df_merge['haircut'] = df_merge['haircut'].fillna('Bald')\n",
    "\n",
    "# replace k in white_hair_count with 1000\n",
    "df_merge['white_hair_count'] = df_merge['white_hair_count'].str.replace('k', '000')\n",
    "df_merge['white_hair_count'] = df_merge['white_hair_count'].fillna(0)\n",
    "df_merge['white_hair_count'] = df_merge['white_hair_count'].astype(int)"
   ]
  },
  {
   "cell_type": "code",
   "execution_count": null,
   "metadata": {},
   "outputs": [],
   "source": [
    "df_merge"
   ]
  },
  {
   "cell_type": "code",
   "execution_count": null,
   "metadata": {},
   "outputs": [],
   "source": [
    "import plotly.express as px\n",
    "\n",
    "# plot sum of persons with by haircut\n",
    "fig = px.bar(df_merge.groupby('haircut').size().reset_index(name='count'), x='haircut', y='count')\n",
    "fig.show()"
   ]
  },
  {
   "cell_type": "code",
   "execution_count": null,
   "metadata": {},
   "outputs": [],
   "source": [
    "# remove Bald persons\n",
    "df_merge = df_merge[df_merge['haircut'] != 'Bald']\n",
    "\n",
    "# plot sum of persons with by haircut\n",
    "fig = px.bar(df_merge.groupby('haircut').size())\n",
    "fig.show()"
   ]
  },
  {
   "cell_type": "code",
   "execution_count": null,
   "metadata": {},
   "outputs": [],
   "source": [
    "import plotly.express as px\n",
    "\n",
    "# plot sum of white_hair_count by haircut\n",
    "fig = px.bar(\n",
    "        df_merge.groupby('haircut').agg({'white_hair_count': 'mean'}).reset_index(), \n",
    "        x='haircut', \n",
    "        y='white_hair_count')\n",
    "fig.show()\n"
   ]
  },
  {
   "cell_type": "code",
   "execution_count": null,
   "metadata": {},
   "outputs": [],
   "source": [
    "# https://www.sqlite.org/\n",
    "con = sqlite3.connect('./datasets/persons.db')\n",
    "\n",
    "df_from_sql = pd.read_sql('SELECT * FROM persons LEFT JOIN haircuts ON persons.national_number = haircuts.national_number', con)\n",
    "df_from_sql"
   ]
  }
 ],
 "metadata": {
  "kernelspec": {
   "display_name": "Python 3",
   "language": "python",
   "name": "python3"
  },
  "language_info": {
   "codemirror_mode": {
    "name": "ipython",
    "version": 3
   },
   "file_extension": ".py",
   "mimetype": "text/x-python",
   "name": "python",
   "nbconvert_exporter": "python",
   "pygments_lexer": "ipython3",
   "version": "3.11.5"
  }
 },
 "nbformat": 4,
 "nbformat_minor": 2
}
