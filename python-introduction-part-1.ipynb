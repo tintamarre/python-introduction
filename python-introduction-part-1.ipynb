{
 "cells": [
  {
   "cell_type": "markdown",
   "metadata": {},
   "source": [
    "# Section 1: Introduction à Python"
   ]
  },
  {
   "cell_type": "markdown",
   "metadata": {},
   "source": [
    "## Variables et types de données\n",
    "\n",
    "Déclarer des variables et comprendre les types de données de base."
   ]
  },
  {
   "cell_type": "code",
   "execution_count": null,
   "metadata": {},
   "outputs": [],
   "source": [
    "# Exemple de variables\n",
    "nom = \"Martin\" # chaîne de caractères\n",
    "age = 42 # entier\n",
    "taille = 1.85 # flottant\n",
    "nombre_enfants = 3 - 1 # 2\n",
    "est_miyope = False # booléen"
   ]
  },
  {
   "cell_type": "code",
   "execution_count": null,
   "metadata": {},
   "outputs": [],
   "source": [
    "# Affichage des valeurs\n",
    "print(\"Nom:\", nom)\n",
    "print(\"Age:\", age)\n",
    "print(\"Taille:\", taille)\n",
    "print(\"Est myope:\", est_miyope)\n",
    "print(\"Nombre d'enfants:\", nombre_enfants)"
   ]
  },
  {
   "cell_type": "code",
   "execution_count": null,
   "metadata": {},
   "outputs": [],
   "source": [
    "print(f\"{nom} a {age} ans, mesure {taille} m, est marié: {est_miyope} et a {nombre_enfants} enfants.\")"
   ]
  },
  {
   "cell_type": "markdown",
   "metadata": {},
   "source": [
    "## Opérations de base\n",
    "Effectuer des opérations arithmétiques et logiques."
   ]
  },
  {
   "cell_type": "code",
   "execution_count": null,
   "metadata": {},
   "outputs": [],
   "source": [
    "# Opérations arithmétiques\n",
    "a = 40\n",
    "b = 2\n",
    "c = 3.33\n",
    "d = \"4\"\n",
    "addition = a + b\n",
    "soustraction = a - b\n",
    "multiplication = a * b\n",
    "division = a / b\n",
    "division_entiere = a // c\n",
    "division_modulo = a % c\n",
    "division_float = a / c\n",
    "\n",
    "print(\"Addition:\", addition)\n",
    "print(\"Soustraction:\", soustraction)\n",
    "print(\"Multiplication:\", multiplication)\n",
    "print(\"Division:\", division)\n",
    "print(\"Division entière:\", division_entiere)\n",
    "print(\"Modulo:\", division_modulo)\n",
    "print(\"Division float:\", division_float)\n",
    "print(\"Division float:\", a / float(d))"
   ]
  },
  {
   "cell_type": "code",
   "execution_count": null,
   "metadata": {},
   "outputs": [],
   "source": [
    "# Opérations logiques\n",
    "vrai = True\n",
    "faux = False\n",
    "et_logique = vrai and faux\n",
    "ou_logique = vrai or faux\n",
    "non_logique = not vrai\n",
    "\n",
    "print(\"`ET` logique:\", et_logique)\n",
    "print(\"`OU` logique:\", ou_logique)\n",
    "print(\"`NON` logique:\", non_logique)"
   ]
  },
  {
   "cell_type": "markdown",
   "metadata": {},
   "source": [
    "## Fonctions intégrées\n",
    "Les fonctions intégrées de Python sont des fonctions qui sont toujours disponibles pour être utilisées. Elles sont incluses dans Python et ne nécessitent pas d'importation."
   ]
  },
  {
   "cell_type": "code",
   "execution_count": null,
   "metadata": {},
   "outputs": [],
   "source": [
    "round(division_float, 2)"
   ]
  },
  {
   "cell_type": "code",
   "execution_count": null,
   "metadata": {},
   "outputs": [],
   "source": [
    "round(4.5)"
   ]
  },
  {
   "cell_type": "code",
   "execution_count": null,
   "metadata": {},
   "outputs": [],
   "source": [
    "round(5.5)"
   ]
  },
  {
   "cell_type": "code",
   "execution_count": null,
   "metadata": {},
   "outputs": [],
   "source": [
    "# Import math Library\n",
    "import math \n",
    "\n",
    "round(math.pi, 2)"
   ]
  },
  {
   "cell_type": "markdown",
   "metadata": {},
   "source": [
    "## Structures de contrôle\n",
    "Utiliser des instructions conditionnelles et des boucles."
   ]
  },
  {
   "cell_type": "code",
   "execution_count": null,
   "metadata": {},
   "outputs": [],
   "source": [
    "print(\"🕯️\" * age)\n",
    "\n",
    "# Instructions conditionnelles\n",
    "if age >= 18:\n",
    "    print(\"Vous êtes majeur.\")\n",
    "else:\n",
    "    print(\"Vous êtes mineur.\")\n",
    "\n",
    "# Boucle for\n",
    "for i in range(5):\n",
    "    print(\"Itération\", i)\n",
    "\n",
    "print(\"🍍\" * 42)\n",
    "\n",
    "# Boucle while\n",
    "compteur = 0\n",
    "while compteur < nombre_enfants:\n",
    "    print(\"Compteur:\", compteur)\n",
    "    compteur += 1 # équivalent à compteur = compteur + 1 "
   ]
  },
  {
   "cell_type": "markdown",
   "metadata": {},
   "source": [
    "## Fonctions\n",
    "Définir et appeler des fonctions."
   ]
  },
  {
   "cell_type": "code",
   "execution_count": null,
   "metadata": {},
   "outputs": [],
   "source": [
    "def hasMyopia(myopia):\n",
    "    if myopia:\n",
    "        return \"est myope\"\n",
    "    else:\n",
    "        return \"n'est pas myope\"\n",
    "    \n",
    "print(f\"{nom} a {age} ans, mesure {taille} m, {hasMyopia(True)} et a {nombre_enfants} enfants.\")"
   ]
  },
  {
   "cell_type": "code",
   "execution_count": null,
   "metadata": {},
   "outputs": [],
   "source": [
    "def vat_price(price, vat=0.21):\n",
    "    \"\"\"\n",
    "    Calcul le prix TVAC à partir d'un prix HTVA et d'un taux de TVA\n",
    "    \"\"\"\n",
    "    print(f\"Calcul du prix TVAC pour un prix HT de {price} € avec une TVA de {vat * 100}%\")\n",
    "    print(f\"Montant HTVA: {price} €\")\n",
    "    print(f\" Montant TVA: {price * vat} € (soit {vat * 100}% de {price} €)\")\n",
    "    print(f\"Montant TVAC: {price * (1 + vat)} €\")\n",
    "    return price * (1 + vat)\n",
    "\n",
    "print(vat_price(735))\n",
    "\n",
    "print(vat_price(735, 0.20))"
   ]
  },
  {
   "cell_type": "code",
   "execution_count": null,
   "metadata": {},
   "outputs": [],
   "source": [
    "def description_pizza_et_ananas(pays):\n",
    "    \"\"\"\n",
    "    Cette fonction prend en compte le pays en paramètre\n",
    "    \"\"\"\n",
    "    if pays.lower() == \"états-unis\":\n",
    "        return \"🍕 with 🍍\"\n",
    "    elif pays.lower() == \"italie\":\n",
    "        return \"🍕 and 🍷🍷\"\n",
    "    else:\n",
    "        return \"🍕\"\n",
    "\n",
    "print(description_pizza_et_ananas('belgique'))"
   ]
  },
  {
   "cell_type": "markdown",
   "metadata": {},
   "source": [
    "## Les listes et les dictionnaires \n"
   ]
  },
  {
   "cell_type": "code",
   "execution_count": null,
   "metadata": {},
   "outputs": [],
   "source": [
    "liste_nombres = [1, 2, 3, 4, 5, 42]\n",
    "liste_chaines = [\"apple\", \"banana\", \"cherry\", \"🍍\"]\n",
    "\n",
    "# Section 4: Dictionnaires\n",
    "dictionnaire_personne = {\n",
    "                            'nom': 'Doe', \n",
    "                            'prenom': 'John', \n",
    "                            'age': 30, \n",
    "                            'murder_count': 7\n",
    "                         }"
   ]
  },
  {
   "cell_type": "code",
   "execution_count": null,
   "metadata": {},
   "outputs": [],
   "source": [
    "for item in liste_nombres:\n",
    "    print(item)"
   ]
  },
  {
   "cell_type": "code",
   "execution_count": null,
   "metadata": {},
   "outputs": [],
   "source": [
    "for item in liste_chaines:\n",
    "    print(item * 2)"
   ]
  },
  {
   "cell_type": "code",
   "execution_count": null,
   "metadata": {},
   "outputs": [],
   "source": [
    "for cle, valeur in dictionnaire_personne.items():\n",
    "    print(f\"{cle}: {valeur}\")"
   ]
  }
 ],
 "metadata": {
  "kernelspec": {
   "display_name": "Python 3",
   "language": "python",
   "name": "python3"
  },
  "language_info": {
   "codemirror_mode": {
    "name": "ipython",
    "version": 3
   },
   "file_extension": ".py",
   "mimetype": "text/x-python",
   "name": "python",
   "nbconvert_exporter": "python",
   "pygments_lexer": "ipython3",
   "version": "3.11.5"
  }
 },
 "nbformat": 4,
 "nbformat_minor": 2
}
