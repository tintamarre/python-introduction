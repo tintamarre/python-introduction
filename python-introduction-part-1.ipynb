{
 "cells": [
  {
   "cell_type": "markdown",
   "metadata": {},
   "source": [
    "# Introduction à Python (partie 1)"
   ]
  },
  {
   "cell_type": "markdown",
   "metadata": {},
   "source": [
    "## Variables et Types de Données\n",
    "\n",
    "Déclarer des variables et comprendre les types de données de base."
   ]
  },
  {
   "cell_type": "code",
   "execution_count": 19,
   "metadata": {},
   "outputs": [],
   "source": [
    "# Exemple de variables\n",
    "nom = \"Martin\"\n",
    "age = 42\n",
    "taille = 1.85\n",
    "nombre_enfants = 3 - 1\n",
    "est_miyope = False"
   ]
  },
  {
   "cell_type": "code",
   "execution_count": 20,
   "metadata": {},
   "outputs": [
    {
     "name": "stdout",
     "output_type": "stream",
     "text": [
      "Nom: Martin\n",
      "Age: 42\n",
      "Taille: 1.85\n",
      "Est myope: False\n",
      "Nombre d'enfants: 3\n"
     ]
    }
   ],
   "source": [
    "# Affichage des valeurs\n",
    "print(\"Nom:\", nom)\n",
    "print(\"Age:\", age)\n",
    "print(\"Taille:\", taille)\n",
    "print(\"Est myope:\", est_miyope)\n",
    "print(\"Nombre d'enfants:\", nombre_enfants)"
   ]
  },
  {
   "cell_type": "code",
   "execution_count": 21,
   "metadata": {},
   "outputs": [
    {
     "name": "stdout",
     "output_type": "stream",
     "text": [
      "Martin a 42 ans, mesure 1.85 m, est marié: False et a 3 enfants.\n"
     ]
    }
   ],
   "source": [
    "\n",
    "print(f\"{nom} a {age} ans, mesure {taille} m, est marié: {est_miyope} et a {nombre_enfants} enfants.\")"
   ]
  },
  {
   "cell_type": "markdown",
   "metadata": {},
   "source": [
    "## Opérations de Base\n",
    "Effectuer des opérations arithmétiques et logiques."
   ]
  },
  {
   "cell_type": "code",
   "execution_count": 58,
   "metadata": {},
   "outputs": [
    {
     "name": "stdout",
     "output_type": "stream",
     "text": [
      "Addition: 42\n",
      "Soustraction: 38\n",
      "Multiplication: 80\n",
      "Division: 20.0\n",
      "Division entière: 20\n",
      "Modulo: 0.03999999999999915\n",
      "Division float: 12.012012012012011\n",
      "Division float: 10.0\n"
     ]
    }
   ],
   "source": [
    "# Opérations arithmétiques\n",
    "a = 40\n",
    "b = 2\n",
    "c = 3.33\n",
    "d = \"4\"\n",
    "addition = a + b\n",
    "soustraction = a - b\n",
    "multiplication = a * b\n",
    "division = a / b\n",
    "division_entiere = a // b\n",
    "division_modulo = a % c\n",
    "division_float = a / c\n",
    "\n",
    "print(\"Addition:\", addition)\n",
    "print(\"Soustraction:\", soustraction)\n",
    "print(\"Multiplication:\", multiplication)\n",
    "print(\"Division:\", division)\n",
    "print(\"Division entière:\", division_entiere)\n",
    "print(\"Modulo:\", division_modulo)\n",
    "print(\"Division float:\", division_float)\n",
    "print(\"Division float:\", a / float(d))"
   ]
  },
  {
   "cell_type": "code",
   "execution_count": 23,
   "metadata": {},
   "outputs": [
    {
     "name": "stdout",
     "output_type": "stream",
     "text": [
      "`ET` logique: False\n",
      "`OU` logique: True\n",
      "`NON` logique: False\n"
     ]
    }
   ],
   "source": [
    "# Opérations logiques\n",
    "vrai = True\n",
    "faux = False\n",
    "et_logique = vrai and faux\n",
    "ou_logique = vrai or faux\n",
    "non_logique = not vrai\n",
    "\n",
    "print(\"`ET` logique:\", et_logique)\n",
    "print(\"`OU` logique:\", ou_logique)\n",
    "print(\"`NON` logique:\", non_logique)"
   ]
  },
  {
   "cell_type": "markdown",
   "metadata": {},
   "source": [
    "## Fonctions intégrées\n",
    "Les fonctions intégrées de Python sont des fonctions qui sont toujours disponibles pour être utilisées. Elles sont incluses dans Python et ne nécessitent pas d'importation."
   ]
  },
  {
   "cell_type": "code",
   "execution_count": 24,
   "metadata": {},
   "outputs": [
    {
     "data": {
      "text/plain": [
       "12.01"
      ]
     },
     "execution_count": 24,
     "metadata": {},
     "output_type": "execute_result"
    }
   ],
   "source": [
    "round(division_float, 2)"
   ]
  },
  {
   "cell_type": "code",
   "execution_count": 25,
   "metadata": {},
   "outputs": [
    {
     "data": {
      "text/plain": [
       "4"
      ]
     },
     "execution_count": 25,
     "metadata": {},
     "output_type": "execute_result"
    }
   ],
   "source": [
    "round(4.5)"
   ]
  },
  {
   "cell_type": "code",
   "execution_count": 26,
   "metadata": {},
   "outputs": [
    {
     "data": {
      "text/plain": [
       "6"
      ]
     },
     "execution_count": 26,
     "metadata": {},
     "output_type": "execute_result"
    }
   ],
   "source": [
    "round(5.5)"
   ]
  },
  {
   "cell_type": "code",
   "execution_count": 4,
   "metadata": {},
   "outputs": [
    {
     "data": {
      "text/plain": [
       "3.14159"
      ]
     },
     "execution_count": 4,
     "metadata": {},
     "output_type": "execute_result"
    }
   ],
   "source": [
    "# Import math Library\n",
    "import math \n",
    "\n",
    "round(math.pi, 5)"
   ]
  },
  {
   "cell_type": "markdown",
   "metadata": {},
   "source": [
    "## Structures de contrôle\n",
    "Utiliser des instructions conditionnelles et des boucles."
   ]
  },
  {
   "cell_type": "code",
   "execution_count": 27,
   "metadata": {},
   "outputs": [
    {
     "name": "stdout",
     "output_type": "stream",
     "text": [
      "Vous êtes majeur.\n",
      "🍕🍕🍕🍕🍕🍕🍕🍕🍕🍕🍕🍕🍕🍕🍕🍕🍕🍕🍕🍕🍕🍕🍕🍕🍕🍕🍕🍕🍕🍕🍕🍕🍕🍕🍕🍕🍕🍕🍕🍕🍕🍕\n",
      "Itération 0\n",
      "Itération 1\n",
      "Itération 2\n",
      "Itération 3\n",
      "Itération 4\n",
      "🍍🍍🍍🍍🍍🍍🍍🍍🍍🍍🍍🍍🍍🍍🍍🍍🍍🍍🍍🍍🍍🍍🍍🍍🍍🍍🍍🍍🍍🍍🍍🍍🍍🍍🍍🍍🍍🍍🍍🍍🍍🍍\n",
      "Compteur: 0\n",
      "Compteur: 1\n",
      "Compteur: 2\n"
     ]
    }
   ],
   "source": [
    "# Instructions conditionnelles\n",
    "if age >= 18:\n",
    "    print(\"Vous êtes majeur.\")\n",
    "else:\n",
    "    print(\"Vous êtes mineur.\")\n",
    "\n",
    "print(\"🍕\" * age)\n",
    "\n",
    "# Boucle for\n",
    "for i in range(5):\n",
    "    print(\"Itération\", i)\n",
    "\n",
    "print(\"🍍\" * 42)\n",
    "# Boucle while\n",
    "compteur = 0\n",
    "while compteur < nombre_enfants:\n",
    "    print(\"Compteur:\", compteur)\n",
    "    compteur += 1"
   ]
  },
  {
   "cell_type": "markdown",
   "metadata": {},
   "source": [
    "## Fonctions\n",
    "Définir et appeler des fonctions."
   ]
  },
  {
   "cell_type": "code",
   "execution_count": 28,
   "metadata": {},
   "outputs": [
    {
     "name": "stdout",
     "output_type": "stream",
     "text": [
      "Martin a 42 ans, mesure 1.85 m, n'est pas myope et a 3 enfants.\n"
     ]
    }
   ],
   "source": [
    "def hasMyopia(myopia):\n",
    "    if myopia:\n",
    "        return \"est myope\"\n",
    "    else:\n",
    "        return \"n'est pas myope\"\n",
    "    \n",
    "print(f\"{nom} a {age} ans, mesure {taille} m, {hasMyopia(est_miyope)} et a {nombre_enfants} enfants.\")"
   ]
  },
  {
   "cell_type": "code",
   "execution_count": 45,
   "metadata": {},
   "outputs": [
    {
     "name": "stdout",
     "output_type": "stream",
     "text": [
      "🍕\n"
     ]
    }
   ],
   "source": [
    "def description_pizza_et_ananas(pays):\n",
    "    \"\"\"\n",
    "    Cette fonction prend en compte le pays en paramètre\n",
    "    \"\"\"\n",
    "    if pays.lower() == \"états-unis\":\n",
    "        return \"🍕 with 🍍\"\n",
    "    elif pays.lower() == \"italie\":\n",
    "        return \"🍕\"\n",
    "    else:\n",
    "        return \"🍕\"\n",
    "\n",
    "print(description_pizza_et_ananas('belgique'))"
   ]
  },
  {
   "cell_type": "markdown",
   "metadata": {},
   "source": [
    "## Les listes et les dictionnaires \n"
   ]
  },
  {
   "cell_type": "code",
   "execution_count": 47,
   "metadata": {},
   "outputs": [],
   "source": [
    "liste_nombres = [1, 2, 3, 4, 5, 42]\n",
    "liste_chaines = [\"apple\", \"banana\", \"cherry\", \"🍍\"]\n",
    "\n",
    "# Section 4: Dictionnaires\n",
    "dictionnaire_personne = {'nom': 'Doe', \n",
    "                         'prenom': 'John', \n",
    "                         'age': 30, \n",
    "                         'murder_count': 7}"
   ]
  },
  {
   "cell_type": "code",
   "execution_count": 44,
   "metadata": {},
   "outputs": [
    {
     "name": "stdout",
     "output_type": "stream",
     "text": [
      "1\n",
      "2\n",
      "3\n",
      "4\n",
      "5\n",
      "42\n"
     ]
    }
   ],
   "source": [
    "for item in liste_nombres:\n",
    "    print(item)"
   ]
  },
  {
   "cell_type": "code",
   "execution_count": 55,
   "metadata": {},
   "outputs": [
    {
     "name": "stdout",
     "output_type": "stream",
     "text": [
      "appleapple\n",
      "bananabanana\n",
      "cherrycherry\n",
      "🍍🍍\n"
     ]
    }
   ],
   "source": [
    "for item in liste_chaines:\n",
    "    print(item * 2)"
   ]
  },
  {
   "cell_type": "code",
   "execution_count": 48,
   "metadata": {},
   "outputs": [
    {
     "name": "stdout",
     "output_type": "stream",
     "text": [
      "nom: Doe\n",
      "prenom: John\n",
      "age: 30\n",
      "murder_count: 7\n"
     ]
    }
   ],
   "source": [
    "for cle, valeur in dictionnaire_personne.items():\n",
    "    print(f\"{cle}: {valeur}\")"
   ]
  }
 ],
 "metadata": {
  "kernelspec": {
   "display_name": "Python 3",
   "language": "python",
   "name": "python3"
  },
  "language_info": {
   "codemirror_mode": {
    "name": "ipython",
    "version": 3
   },
   "file_extension": ".py",
   "mimetype": "text/x-python",
   "name": "python",
   "nbconvert_exporter": "python",
   "pygments_lexer": "ipython3",
   "version": "3.11.5"
  }
 },
 "nbformat": 4,
 "nbformat_minor": 2
}
